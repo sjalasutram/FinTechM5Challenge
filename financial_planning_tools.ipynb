{
 "cells": [
  {
   "cell_type": "markdown",
   "metadata": {},
   "source": [
    "# Financial Planning with APIs and Simulations\n",
    "\n",
    "In this Challenge, you’ll create two financial analysis tools by using a single Jupyter notebook:\n",
    "\n",
    "Part 1: A financial planner for emergencies. The members will be able to use this tool to visualize their current savings. The members can then determine if they have enough reserves for an emergency fund.\n",
    "\n",
    "Part 2: A financial planner for retirement. This tool will forecast the performance of their retirement portfolio in 30 years. To do this, the tool will make an Alpaca API call via the Alpaca SDK to get historical price data for use in Monte Carlo simulations.\n",
    "\n",
    "You’ll use the information from the Monte Carlo simulation to answer questions about the portfolio in your Jupyter notebook.\n",
    "\n"
   ]
  },
  {
   "cell_type": "code",
   "execution_count": 160,
   "metadata": {},
   "outputs": [],
   "source": [
    "# Import the required libraries and dependencies\n",
    "import os\n",
    "import requests\n",
    "import json\n",
    "import pandas as pd\n",
    "from dotenv import load_dotenv\n",
    "import alpaca_trade_api as tradeapi\n",
    "from MCForecastTools import MCSimulation\n",
    "\n",
    "%matplotlib inline"
   ]
  },
  {
   "cell_type": "code",
   "execution_count": 161,
   "metadata": {},
   "outputs": [
    {
     "data": {
      "text/plain": [
       "True"
      ]
     },
     "execution_count": 161,
     "metadata": {},
     "output_type": "execute_result"
    }
   ],
   "source": [
    "# Load the environment variables from the .env file\n",
    "#by calling the load_dotenv function\n",
    "load_dotenv()"
   ]
  },
  {
   "cell_type": "markdown",
   "metadata": {},
   "source": [
    "## Part 1: Create a Financial Planner for Emergencies"
   ]
  },
  {
   "cell_type": "markdown",
   "metadata": {},
   "source": [
    "### Evaluate the Cryptocurrency Wallet by Using the Requests Library\n",
    "\n",
    "In this section, you’ll determine the current value of a member’s cryptocurrency wallet. You’ll collect the current prices for the Bitcoin and Ethereum cryptocurrencies by using the Python Requests library. For the prototype, you’ll assume that the member holds the 1.2 Bitcoins (BTC) and 5.3 Ethereum coins (ETH). To do all this, complete the following steps:\n",
    "\n",
    "1. Create a variable named `monthly_income`, and set its value to `12000`.\n",
    "\n",
    "2. Use the Requests library to get the current price (in US dollars) of Bitcoin (BTC) and Ethereum (ETH) by using the API endpoints that the starter code supplies.\n",
    "\n",
    "3. Navigate the JSON response object to access the current price of each coin, and store each in a variable.\n",
    "\n",
    "    > **Hint** Note the specific identifier for each cryptocurrency in the API JSON response. The Bitcoin identifier is `1`, and the Ethereum identifier is `1027`.\n",
    "\n",
    "4. Calculate the value, in US dollars, of the current amount of each cryptocurrency and of the entire cryptocurrency wallet.\n",
    "\n"
   ]
  },
  {
   "cell_type": "code",
   "execution_count": 162,
   "metadata": {},
   "outputs": [],
   "source": [
    "# The current number of coins for each cryptocurrency asset held in the portfolio.\n",
    "btc_coins = 1.2\n",
    "eth_coins = 5.3"
   ]
  },
  {
   "cell_type": "markdown",
   "metadata": {},
   "source": [
    "#### Step 1: Create a variable named `monthly_income`, and set its value to `12000`."
   ]
  },
  {
   "cell_type": "code",
   "execution_count": 163,
   "metadata": {},
   "outputs": [],
   "source": [
    "# The monthly amount for the member's household income\n",
    "# YOUR CODE HERE\n",
    "monthly_income = 12000"
   ]
  },
  {
   "cell_type": "markdown",
   "metadata": {},
   "source": [
    "#### Review the endpoint URLs for the API calls to Free Crypto API in order to get the current pricing information for both BTC and ETH."
   ]
  },
  {
   "cell_type": "code",
   "execution_count": 164,
   "metadata": {},
   "outputs": [],
   "source": [
    "# The Free Crypto API Call endpoint URLs for the held cryptocurrency assets\n",
    "btc_url = \"https://api.alternative.me/v2/ticker/Bitcoin/?convert=USD\"\n",
    "eth_url = \"https://api.alternative.me/v2/ticker/Ethereum/?convert=USD\""
   ]
  },
  {
   "cell_type": "markdown",
   "metadata": {},
   "source": [
    "#### Step 2. Use the Requests library to get the current price (in US dollars) of Bitcoin (BTC) and Ethereum (ETH) by using the API endpoints that the starter code supplied."
   ]
  },
  {
   "cell_type": "code",
   "execution_count": 165,
   "metadata": {},
   "outputs": [
    {
     "name": "stdout",
     "output_type": "stream",
     "text": [
      "{\n",
      "    \"data\": {\n",
      "        \"1\": {\n",
      "            \"circulating_supply\": 19335575,\n",
      "            \"id\": 1,\n",
      "            \"last_updated\": 1680486905,\n",
      "            \"max_supply\": 21000000,\n",
      "            \"name\": \"Bitcoin\",\n",
      "            \"quotes\": {\n",
      "                \"USD\": {\n",
      "                    \"market_cap\": 534853819227,\n",
      "                    \"percent_change_1h\": -1.40657694663466,\n",
      "                    \"percent_change_24h\": -2.45498745057093,\n",
      "                    \"percent_change_7d\": -1.13119231174931,\n",
      "                    \"percentage_change_1h\": -1.40657694663466,\n",
      "                    \"percentage_change_24h\": -2.45498745057093,\n",
      "                    \"percentage_change_7d\": -1.13119231174931,\n",
      "                    \"price\": 27731.0,\n",
      "                    \"volume_24h\": 12239747990\n",
      "                }\n",
      "            },\n",
      "            \"rank\": 1,\n",
      "            \"symbol\": \"BTC\",\n",
      "            \"total_supply\": 19335575,\n",
      "            \"website_slug\": \"bitcoin\"\n",
      "        }\n",
      "    },\n",
      "    \"metadata\": {\n",
      "        \"error\": null,\n",
      "        \"num_cryptocurrencies\": 3119,\n",
      "        \"timestamp\": 1680486905\n",
      "    }\n",
      "}\n"
     ]
    }
   ],
   "source": [
    "# Using the Python requests library, make an API call to access the current price of BTC\n",
    "btc_response = requests.get(btc_url).json()\n",
    "\n",
    "# Use the json.dumps function to review the response data from the API call\n",
    "# Use the indent and sort_keys parameters to make the response object readable\n",
    "# YOUR CODE HERE\n",
    "print(json.dumps(btc_response,indent=4,sort_keys=True))"
   ]
  },
  {
   "cell_type": "code",
   "execution_count": 166,
   "metadata": {},
   "outputs": [
    {
     "name": "stdout",
     "output_type": "stream",
     "text": [
      "{\n",
      "    \"data\": {\n",
      "        \"1027\": {\n",
      "            \"circulating_supply\": 120445564,\n",
      "            \"id\": 1027,\n",
      "            \"last_updated\": 1680486896,\n",
      "            \"max_supply\": 120445564,\n",
      "            \"name\": \"Ethereum\",\n",
      "            \"quotes\": {\n",
      "                \"USD\": {\n",
      "                    \"market_cap\": 212579198713,\n",
      "                    \"percent_change_1h\": -1.15044579727877,\n",
      "                    \"percent_change_24h\": -2.53914025326767,\n",
      "                    \"percent_change_7d\": -0.32786211529795,\n",
      "                    \"percentage_change_1h\": -1.15044579727877,\n",
      "                    \"percentage_change_24h\": -2.53914025326767,\n",
      "                    \"percentage_change_7d\": -0.32786211529795,\n",
      "                    \"price\": 1771.04,\n",
      "                    \"volume_24h\": 6905782501\n",
      "                }\n",
      "            },\n",
      "            \"rank\": 2,\n",
      "            \"symbol\": \"ETH\",\n",
      "            \"total_supply\": 120445564,\n",
      "            \"website_slug\": \"ethereum\"\n",
      "        }\n",
      "    },\n",
      "    \"metadata\": {\n",
      "        \"error\": null,\n",
      "        \"num_cryptocurrencies\": 3119,\n",
      "        \"timestamp\": 1680486896\n",
      "    }\n",
      "}\n"
     ]
    }
   ],
   "source": [
    "# Using the Python requests library, make an API call to access the current price ETH\n",
    "eth_response = requests.get(eth_url).json()\n",
    "\n",
    "# Use the json.dumps function to review the response data from the API call\n",
    "# Use the indent and sort_keys parameters to make the response object readable\n",
    "# YOUR CODE HERE\n",
    "print(json.dumps(eth_response,indent=4,sort_keys=True))"
   ]
  },
  {
   "cell_type": "markdown",
   "metadata": {},
   "source": [
    "#### Step 3: Navigate the JSON response object to access the current price of each coin, and store each in a variable."
   ]
  },
  {
   "cell_type": "code",
   "execution_count": 167,
   "metadata": {},
   "outputs": [
    {
     "name": "stdout",
     "output_type": "stream",
     "text": [
      "Current price of BTC is 27,731.00 USD\n"
     ]
    }
   ],
   "source": [
    "# Navigate the BTC response object to access the current price of BTC\n",
    "btc_price = btc_response['data']['1']['quotes']['USD']['price']\n",
    "\n",
    "# Print the current price of BTC\n",
    "# YOUR CODE HERE\n",
    "print(f\"Current price of BTC is {btc_price:,.2f} USD\")\n"
   ]
  },
  {
   "cell_type": "code",
   "execution_count": 168,
   "metadata": {},
   "outputs": [
    {
     "name": "stdout",
     "output_type": "stream",
     "text": [
      "Current price of ETH is 1,771.04 USD\n"
     ]
    }
   ],
   "source": [
    "# Navigate the BTC response object to access the current price of ETH\n",
    "eth_price = eth_response['data']['1027']['quotes']['USD']['price']\n",
    "\n",
    "# Print the current price of ETH\n",
    "# YOUR CODE HERE\n",
    "print(f\"Current price of ETH is {eth_price:,.2f} USD\")\n"
   ]
  },
  {
   "cell_type": "markdown",
   "metadata": {},
   "source": [
    "### Step 4: Calculate the value, in US dollars, of the current amount of each cryptocurrency and of the entire cryptocurrency wallet."
   ]
  },
  {
   "cell_type": "code",
   "execution_count": 169,
   "metadata": {},
   "outputs": [
    {
     "name": "stdout",
     "output_type": "stream",
     "text": [
      "BTC current value: 33,277.20 USD\n"
     ]
    }
   ],
   "source": [
    "# Compute the current value of the BTC holding \n",
    "btc_value = btc_coins * btc_price\n",
    "\n",
    "# Print current value of your holding in BTC\n",
    "# YOUR CODE HERE\n",
    "print(f\"BTC current value: {btc_value:,.2f} USD\")\n"
   ]
  },
  {
   "cell_type": "code",
   "execution_count": 170,
   "metadata": {},
   "outputs": [
    {
     "name": "stdout",
     "output_type": "stream",
     "text": [
      "ETH current value: 9,386.51 USD\n"
     ]
    }
   ],
   "source": [
    "# Compute the current value of the ETH holding \n",
    "eth_value = eth_coins * eth_price\n",
    "\n",
    "# Print current value of your holding in ETH\n",
    "# YOUR CODE HERE\n",
    "print(f\"ETH current value: {eth_value:,.2f} USD\")\n"
   ]
  },
  {
   "cell_type": "code",
   "execution_count": 171,
   "metadata": {},
   "outputs": [
    {
     "name": "stdout",
     "output_type": "stream",
     "text": [
      "Total crypto currency value is 42,663.71 USD\n"
     ]
    }
   ],
   "source": [
    "# Compute the total value of the cryptocurrency wallet\n",
    "# Add the value of the BTC holding to the value of the ETH holding\n",
    "total_crypto_wallet = btc_value + eth_value\n",
    "\n",
    "# Print current cryptocurrency wallet balance\n",
    "# YOUR CODE HERE\n",
    "print(f\"Total crypto currency value is {total_crypto_wallet:,.2f} USD\")"
   ]
  },
  {
   "cell_type": "markdown",
   "metadata": {},
   "source": [
    "### Evaluate the Stock and Bond Holdings by Using the Alpaca SDK\n",
    "\n",
    "In this section, you’ll determine the current value of a member’s stock and bond holdings. You’ll make an API call to Alpaca via the Alpaca SDK to get the current closing prices of the SPDR S&P 500 ETF Trust (ticker: SPY) and of the iShares Core US Aggregate Bond ETF (ticker: AGG). For the prototype, assume that the member holds 110 shares of SPY, which represents the stock portion of their portfolio, and 200 shares of AGG, which represents the bond portion. To do all this, complete the following steps:\n",
    "\n",
    "1. In the `Starter_Code` folder, create an environment file (`.env`) to store the values of your Alpaca API key and Alpaca secret key.\n",
    "\n",
    "2. Set the variables for the Alpaca API and secret keys. Using the Alpaca SDK, create the Alpaca `tradeapi.REST` object. In this object, include the parameters for the Alpaca API key, the secret key, and the version number.\n",
    "\n",
    "3. Set the following parameters for the Alpaca API call:\n",
    "\n",
    "    - `tickers`: Use the tickers for the member’s stock and bond holdings.\n",
    "\n",
    "    - `timeframe`: Use a time frame of one day.\n",
    "\n",
    "    - `start_date` and `end_date`: Use the same date for these parameters, and format them with the date of the previous weekday (or `2020-08-07`). This is because you want the one closing price for the most-recent trading day.\n",
    "\n",
    "4. Get the current closing prices for `SPY` and `AGG` by using the Alpaca `get_bars` function. Format the response as a Pandas DataFrame by including the `df` property at the end of the `get_bars` function.\n",
    "\n",
    "5. Navigating the Alpaca response DataFrame, select the `SPY` and `AGG` closing prices, and store them as variables.\n",
    "\n",
    "6. Calculate the value, in US dollars, of the current amount of shares in each of the stock and bond portions of the portfolio, and print the results.\n"
   ]
  },
  {
   "cell_type": "markdown",
   "metadata": {},
   "source": [
    "#### Review the total number of shares held in both (SPY) and (AGG)."
   ]
  },
  {
   "cell_type": "code",
   "execution_count": 172,
   "metadata": {},
   "outputs": [],
   "source": [
    "# Current amount of shares held in both the stock (SPY) and bond (AGG) portion of the portfolio.\n",
    "spy_shares = 110\n",
    "agg_shares = 200\n"
   ]
  },
  {
   "cell_type": "markdown",
   "metadata": {},
   "source": [
    "#### Step 1: In the `Starter_Code` folder, create an environment file (`.env`) to store the values of your Alpaca API key and Alpaca secret key."
   ]
  },
  {
   "cell_type": "markdown",
   "metadata": {},
   "source": [
    "#### Step 2: Set the variables for the Alpaca API and secret keys. Using the Alpaca SDK, create the Alpaca `tradeapi.REST` object. In this object, include the parameters for the Alpaca API key, the secret key, and the version number."
   ]
  },
  {
   "cell_type": "code",
   "execution_count": 173,
   "metadata": {},
   "outputs": [
    {
     "data": {
      "text/plain": [
       "str"
      ]
     },
     "metadata": {},
     "output_type": "display_data"
    },
    {
     "data": {
      "text/plain": [
       "str"
      ]
     },
     "metadata": {},
     "output_type": "display_data"
    }
   ],
   "source": [
    "# Set the variables for the Alpaca API and secret keys\n",
    "# YOUR CODE HERE\n",
    "alpaca_api_key = os.getenv('ALPACA_API_KEY')\n",
    "# YOUR CODE HERE\n",
    "alpaca_secret_key = os.getenv('ALPACA_SECRET_KEY')\n",
    "\n",
    "display(type(alpaca_api_key))\n",
    "display(type(alpaca_secret_key))\n",
    "# Create the Alpaca tradeapi.REST object\n",
    "# YOUR CODE HERE\n",
    "alpaca = tradeapi.REST(alpaca_api_key, alpaca_secret_key, api_version='v2')\n"
   ]
  },
  {
   "cell_type": "markdown",
   "metadata": {},
   "source": [
    "#### Step 3: Set the following parameters for the Alpaca API call:\n",
    "\n",
    "- `tickers`: Use the tickers for the member’s stock and bond holdings.\n",
    "\n",
    "- `timeframe`: Use a time frame of one day.\n",
    "\n",
    "- `start_date` and `end_date`: Use the same date for these parameters, and format them with the date of the previous weekday (or `2020-08-07`). This is because you want the one closing price for the most-recent trading day.\n"
   ]
  },
  {
   "cell_type": "code",
   "execution_count": 174,
   "metadata": {},
   "outputs": [],
   "source": [
    "# Set the tickers for both the bond and stock portion of the portfolio\n",
    "# YOUR CODE HERE\n",
    "tickers = ['AGG','SPY']\n",
    "\n",
    "# Set timeframe to 1Day\n",
    "# YOUR CODE HERE\n",
    "timeframe='1D'\n",
    "\n",
    "# Format current date as ISO format\n",
    "# Set both the start and end date at the date of your prior weekday \n",
    "# This will give you the closing price of the previous trading day\n",
    "# Alternatively you can use a start and end date of 2020-08-07\n",
    "# YOUR CODE HERE\n",
    "start_date = pd.Timestamp(\"2023-03-31\",tz='America/New_York').isoformat()\n",
    "end_date = start_date\n",
    "# end_date = pd.Timestamp(\"2023-03-31\",tz='America/New_York').isoformat()\n",
    "# YOUR CODE HERE\n"
   ]
  },
  {
   "cell_type": "markdown",
   "metadata": {},
   "source": [
    "#### Step 4: Get the current closing prices for `SPY` and `AGG` by using the Alpaca `get_bars` function. Format the response as a Pandas DataFrame by including the `df` property at the end of the `get_bars` function."
   ]
  },
  {
   "cell_type": "code",
   "execution_count": 175,
   "metadata": {},
   "outputs": [
    {
     "data": {
      "text/html": [
       "<div>\n",
       "<style scoped>\n",
       "    .dataframe tbody tr th:only-of-type {\n",
       "        vertical-align: middle;\n",
       "    }\n",
       "\n",
       "    .dataframe tbody tr th {\n",
       "        vertical-align: top;\n",
       "    }\n",
       "\n",
       "    .dataframe thead tr th {\n",
       "        text-align: left;\n",
       "    }\n",
       "</style>\n",
       "<table border=\"1\" class=\"dataframe\">\n",
       "  <thead>\n",
       "    <tr>\n",
       "      <th></th>\n",
       "      <th colspan=\"7\" halign=\"left\">AGG</th>\n",
       "      <th colspan=\"7\" halign=\"left\">SPY</th>\n",
       "    </tr>\n",
       "    <tr>\n",
       "      <th></th>\n",
       "      <th>open</th>\n",
       "      <th>high</th>\n",
       "      <th>low</th>\n",
       "      <th>close</th>\n",
       "      <th>volume</th>\n",
       "      <th>trade_count</th>\n",
       "      <th>vwap</th>\n",
       "      <th>open</th>\n",
       "      <th>high</th>\n",
       "      <th>low</th>\n",
       "      <th>close</th>\n",
       "      <th>volume</th>\n",
       "      <th>trade_count</th>\n",
       "      <th>vwap</th>\n",
       "    </tr>\n",
       "  </thead>\n",
       "  <tbody>\n",
       "    <tr>\n",
       "      <th>2023-03-31</th>\n",
       "      <td>99.39</td>\n",
       "      <td>99.69</td>\n",
       "      <td>99.16</td>\n",
       "      <td>99.64</td>\n",
       "      <td>7089403</td>\n",
       "      <td>28229</td>\n",
       "      <td>99.448758</td>\n",
       "      <td>404.66</td>\n",
       "      <td>409.7</td>\n",
       "      <td>404.55</td>\n",
       "      <td>409.39</td>\n",
       "      <td>108386077</td>\n",
       "      <td>690249</td>\n",
       "      <td>407.199127</td>\n",
       "    </tr>\n",
       "  </tbody>\n",
       "</table>\n",
       "</div>"
      ],
      "text/plain": [
       "              AGG                                                       \\\n",
       "             open   high    low  close   volume trade_count       vwap   \n",
       "2023-03-31  99.39  99.69  99.16  99.64  7089403       28229  99.448758   \n",
       "\n",
       "               SPY                                                            \n",
       "              open   high     low   close     volume trade_count        vwap  \n",
       "2023-03-31  404.66  409.7  404.55  409.39  108386077      690249  407.199127  "
      ]
     },
     "execution_count": 175,
     "metadata": {},
     "output_type": "execute_result"
    }
   ],
   "source": [
    "# Use the Alpaca get_bars function to get current closing prices the portfolio\n",
    "# Be sure to set the `df` property after the function to format the response object as a DataFrame\n",
    "# YOUR CODE HERE\n",
    "response_df = alpaca.get_bars(tickers, timeframe, start_date, end_date).df\n",
    "response_df\n",
    "\n",
    "# response_df[response_df['S']=='AGG']\n",
    "\n",
    "# Reorganize the DataFrame\n",
    "# Separate ticker data\n",
    "# YOUR CODE HERE\n",
    "AGG = response_df[response_df['symbol']=='AGG'].drop('symbol',axis=1)\n",
    "SPY = response_df[response_df['symbol']=='SPY'].drop('symbol',axis=1)\n",
    "\n",
    "# Concatenate the ticker DataFrames\n",
    "# YOUR CODE HERE\n",
    "combined_df  = pd.concat([AGG,SPY],axis=1,keys=tickers)\n",
    "combined_df.index = combined_df.index.date\n",
    "\n",
    "# Review the first 5 rows of the Alpaca DataFrame\n",
    "# YOUR CODE HERE\n",
    "combined_df.head()"
   ]
  },
  {
   "cell_type": "markdown",
   "metadata": {},
   "source": [
    "#### Step 5: Navigating the Alpaca response DataFrame, select the `SPY` and `AGG` closing prices, and store them as variables."
   ]
  },
  {
   "cell_type": "code",
   "execution_count": 176,
   "metadata": {},
   "outputs": [
    {
     "name": "stdout",
     "output_type": "stream",
     "text": [
      "Closing price of AGG is 99.64\n"
     ]
    }
   ],
   "source": [
    "# Access the closing price for AGG from the Alpaca DataFrame\n",
    "# Converting the value to a floating point number\n",
    "agg_close_price = combined_df['AGG']['close'][0]\n",
    "agg_close_price = float(agg_close_price)\n",
    "\n",
    "# Print the AGG closing price\n",
    "# YOUR CODE HERE\n",
    "print(f'Closing price of AGG is {agg_close_price}')\n"
   ]
  },
  {
   "cell_type": "code",
   "execution_count": 177,
   "metadata": {},
   "outputs": [
    {
     "name": "stdout",
     "output_type": "stream",
     "text": [
      "Closing price of SPY is 409.39\n"
     ]
    }
   ],
   "source": [
    "# Access the closing price for SPY from the Alpaca DataFrame\n",
    "# Converting the value to a floating point number\n",
    "spy_close_price = combined_df['SPY']['close'][0]\n",
    "spy_close_price = float(spy_close_price)\n",
    "# Print the SPY closing price\n",
    "# YOUR CODE HERE\n",
    "print(f'Closing price of SPY is {spy_close_price}')\n"
   ]
  },
  {
   "cell_type": "markdown",
   "metadata": {},
   "source": [
    "#### Step 6: Calculate the value, in US dollars, of the current amount of shares in each of the stock and bond portions of the portfolio, and print the results."
   ]
  },
  {
   "cell_type": "code",
   "execution_count": 178,
   "metadata": {},
   "outputs": [
    {
     "name": "stdout",
     "output_type": "stream",
     "text": [
      "The current value of the bonds is 19,928.00 USD\n"
     ]
    }
   ],
   "source": [
    "# Calculate the current value of the bond portion of the portfolio\n",
    "agg_value = agg_shares * agg_close_price\n",
    "\n",
    "# Print the current value of the bond portfolio\n",
    "# YOUR CODE HERE\n",
    "print(f\"The current value of the bonds is {agg_value:,.2f} USD\") "
   ]
  },
  {
   "cell_type": "code",
   "execution_count": 179,
   "metadata": {},
   "outputs": [
    {
     "name": "stdout",
     "output_type": "stream",
     "text": [
      "The current value of the stocks is 45,032.90 USD\n"
     ]
    }
   ],
   "source": [
    "# Calculate the current value of the stock portion of the portfolio\n",
    "spy_value = spy_shares * spy_close_price\n",
    "\n",
    "# Print the current value of the stock portfolio\n",
    "# YOUR CODE HERE\n",
    "print(f\"The current value of the stocks is {spy_value:,.2f} USD\")"
   ]
  },
  {
   "cell_type": "code",
   "execution_count": 180,
   "metadata": {},
   "outputs": [
    {
     "name": "stdout",
     "output_type": "stream",
     "text": [
      "The current value of total stocks and bonds is 64,960.90 USD\n"
     ]
    }
   ],
   "source": [
    "# Calculate the total value of the stock and bond portion of the portfolio\n",
    "total_stocks_bonds = spy_value + agg_value\n",
    "\n",
    "# Print the current balance of the stock and bond portion of the portfolio\n",
    "# YOUR CODE HERE\n",
    "print(f\"The current value of total stocks and bonds is {total_stocks_bonds:,.2f} USD\")\n"
   ]
  },
  {
   "cell_type": "code",
   "execution_count": 181,
   "metadata": {},
   "outputs": [
    {
     "name": "stdout",
     "output_type": "stream",
     "text": [
      "The value of total portfolio (Crypto, Stocks and Bonds) is 107,624.61 USD\n"
     ]
    }
   ],
   "source": [
    "# Calculate the total value of the member's entire savings portfolio\n",
    "# Add the value of the cryptocurrency walled to the value of the total stocks and bonds\n",
    "total_portfolio = total_stocks_bonds + total_crypto_wallet\n",
    "\n",
    "# Print current cryptocurrency wallet balance\n",
    "# YOUR CODE HERE\n",
    "print(f\"The value of total portfolio (Crypto, Stocks and Bonds) is {total_portfolio:,.2f} USD\")\n"
   ]
  },
  {
   "cell_type": "markdown",
   "metadata": {},
   "source": [
    "### Evaluate the Emergency Fund\n",
    "\n",
    "In this section, you’ll use the valuations for the cryptocurrency wallet and for the stock and bond portions of the portfolio to determine if the credit union member has enough savings to build an emergency fund into their financial plan. To do this, complete the following steps:\n",
    "\n",
    "1. Create a Python list named `savings_data` that has two elements. The first element contains the total value of the cryptocurrency wallet. The second element contains the total value of the stock and bond portions of the portfolio.\n",
    "\n",
    "2. Use the `savings_data` list to create a Pandas DataFrame named `savings_df`, and then display this DataFrame. The function to create the DataFrame should take the following three parameters:\n",
    "\n",
    "    - `savings_data`: Use the list that you just created.\n",
    "\n",
    "    - `columns`: Set this parameter equal to a Python list with a single value called `amount`.\n",
    "\n",
    "    - `index`: Set this parameter equal to a Python list with the values of `crypto` and `stock/bond`.\n",
    "\n",
    "3. Use the `savings_df` DataFrame to plot a pie chart that visualizes the composition of the member’s portfolio. The y-axis of the pie chart uses `amount`. Be sure to add a title.\n",
    "\n",
    "4. Using Python, determine if the current portfolio has enough to create an emergency fund as part of the member’s financial plan. Ideally, an emergency fund should equal to three times the member’s monthly income. To do this, implement the following steps:\n",
    "\n",
    "    1. Create a variable named `emergency_fund_value`, and set it equal to three times the value of the member’s `monthly_income` of $12000. (You set this earlier in Part 1).\n",
    "\n",
    "    2. Create a series of three if statements to determine if the member’s total portfolio is large enough to fund the emergency portfolio:\n",
    "\n",
    "        1. If the total portfolio value is greater than the emergency fund value, display a message congratulating the member for having enough money in this fund.\n",
    "\n",
    "        2. Else if the total portfolio value is equal to the emergency fund value, display a message congratulating the member on reaching this important financial goal.\n",
    "\n",
    "        3. Else the total portfolio is less than the emergency fund value, so display a message showing how many dollars away the member is from reaching the goal. (Subtract the total portfolio value from the emergency fund value.)\n"
   ]
  },
  {
   "cell_type": "markdown",
   "metadata": {},
   "source": [
    "#### Step 1: Create a Python list named `savings_data` that has two elements. The first element contains the total value of the cryptocurrency wallet. The second element contains the total value of the stock and bond portions of the portfolio."
   ]
  },
  {
   "cell_type": "code",
   "execution_count": 182,
   "metadata": {},
   "outputs": [
    {
     "data": {
      "text/plain": [
       "[42663.712, 64960.9]"
      ]
     },
     "execution_count": 182,
     "metadata": {},
     "output_type": "execute_result"
    }
   ],
   "source": [
    "# Consolidate financial assets data into a Python list\n",
    "# YOUR CODE HERE\n",
    "savings_data = [total_crypto_wallet, total_stocks_bonds]\n",
    "\n",
    "# Review the Python list savings_data\n",
    "# YOUR CODE HERE\n",
    "savings_data\n",
    "    "
   ]
  },
  {
   "cell_type": "markdown",
   "metadata": {},
   "source": [
    "#### Step 2: Use the `savings_data` list to create a Pandas DataFrame named `savings_df`, and then display this DataFrame. The function to create the DataFrame should take the following three parameters:\n",
    "\n",
    "- `savings_data`: Use the list that you just created.\n",
    "\n",
    "- `columns`: Set this parameter equal to a Python list with a single value called `amount`.\n",
    "\n",
    "- `index`: Set this parameter equal to a Python list with the values of `crypto` and `stock/bond`.\n"
   ]
  },
  {
   "cell_type": "code",
   "execution_count": 183,
   "metadata": {},
   "outputs": [
    {
     "data": {
      "text/html": [
       "<div>\n",
       "<style scoped>\n",
       "    .dataframe tbody tr th:only-of-type {\n",
       "        vertical-align: middle;\n",
       "    }\n",
       "\n",
       "    .dataframe tbody tr th {\n",
       "        vertical-align: top;\n",
       "    }\n",
       "\n",
       "    .dataframe thead th {\n",
       "        text-align: right;\n",
       "    }\n",
       "</style>\n",
       "<table border=\"1\" class=\"dataframe\">\n",
       "  <thead>\n",
       "    <tr style=\"text-align: right;\">\n",
       "      <th></th>\n",
       "      <th>amount</th>\n",
       "    </tr>\n",
       "  </thead>\n",
       "  <tbody>\n",
       "    <tr>\n",
       "      <th>crypto</th>\n",
       "      <td>42663.712</td>\n",
       "    </tr>\n",
       "    <tr>\n",
       "      <th>stock/bond</th>\n",
       "      <td>64960.900</td>\n",
       "    </tr>\n",
       "  </tbody>\n",
       "</table>\n",
       "</div>"
      ],
      "text/plain": [
       "               amount\n",
       "crypto      42663.712\n",
       "stock/bond  64960.900"
      ]
     },
     "execution_count": 183,
     "metadata": {},
     "output_type": "execute_result"
    }
   ],
   "source": [
    "# Create a Pandas DataFrame called savings_df \n",
    "# YOUR CODE HERE\n",
    "columns = ['amount']\n",
    "index_list = ['crypto','stock/bond']\n",
    "savings_df = pd.DataFrame(data=savings_data)\n",
    "\n",
    "# Display the savings_df DataFrame\n",
    "# YOUR CODE HERE\n",
    "savings_df.columns = ['amount']\n",
    "savings_df.index = index_list\n",
    "savings_df\n"
   ]
  },
  {
   "cell_type": "markdown",
   "metadata": {},
   "source": [
    "#### Step 3: Use the `savings_df` DataFrame to plot a pie chart that visualizes the composition of the member’s portfolio. The y-axis of the pie chart uses `amount`. Be sure to add a title."
   ]
  },
  {
   "cell_type": "code",
   "execution_count": 184,
   "metadata": {},
   "outputs": [
    {
     "data": {
      "text/plain": [
       "<AxesSubplot:title={'center':'Members portfolio'}, ylabel='amount'>"
      ]
     },
     "execution_count": 184,
     "metadata": {},
     "output_type": "execute_result"
    },
    {
     "data": {
      "image/png": "[encoded data removed]",
      "text/plain": [
       "<Figure size 640x480 with 1 Axes>"
      ]
     },
     "metadata": {},
     "output_type": "display_data"
    }
   ],
   "source": [
    "# Plot the total value of the member's portfolio (crypto and stock/bond) in a pie chart\n",
    "# YOUR CODE HERE\n",
    "savings_df.plot.pie(y='amount',title = 'Members portfolio')"
   ]
  },
  {
   "cell_type": "markdown",
   "metadata": {},
   "source": [
    "#### Step 4: Using Python, determine if the current portfolio has enough to create an emergency fund as part of the member’s financial plan. Ideally, an emergency fund should equal to three times the member’s monthly income. To do this, implement the following steps:\n",
    "\n",
    "Step 1. Create a variable named `emergency_fund_value`, and set it equal to three times the value of the member’s `monthly_income` of 12000. (You set this earlier in Part 1).\n",
    "\n",
    "Step 2. Create a series of three if statements to determine if the member’s total portfolio is large enough to fund the emergency portfolio:\n",
    "\n",
    "* If the total portfolio value is greater than the emergency fund value, display a message congratulating the member for having enough money in this fund.\n",
    "\n",
    "* Else if the total portfolio value is equal to the emergency fund value, display a message congratulating the member on reaching this important financial goal.\n",
    "\n",
    "* Else the total portfolio is less than the emergency fund value, so display a message showing how many dollars away the member is from reaching the goal. (Subtract the total portfolio value from the emergency fund value.)\n"
   ]
  },
  {
   "cell_type": "markdown",
   "metadata": {},
   "source": [
    "##### Step 4-1: Create a variable named `emergency_fund_value`, and set it equal to three times the value of the member’s `monthly_income` of 12000. (You set this earlier in Part 1)."
   ]
  },
  {
   "cell_type": "code",
   "execution_count": 185,
   "metadata": {},
   "outputs": [],
   "source": [
    "# Create a variable named emergency_fund_value\n",
    "# YOUR CODE HERE\n",
    "emergency_fund_value = 3 * monthly_income"
   ]
  },
  {
   "cell_type": "markdown",
   "metadata": {},
   "source": [
    "##### Step 4-2: Create a series of three if statements to determine if the member’s total portfolio is large enough to fund the emergency portfolio:\n",
    "\n",
    "* If the total portfolio value is greater than the emergency fund value, display a message congratulating the member for having enough money in this fund.\n",
    "\n",
    "* Else if the total portfolio value is equal to the emergency fund value, display a message congratulating the member on reaching this important financial goal.\n",
    "\n",
    "* Else the total portfolio is less than the emergency fund value, so display a message showing how many dollars away the member is from reaching the goal. (Subtract the total portfolio value from the emergency fund value.)"
   ]
  },
  {
   "cell_type": "code",
   "execution_count": 186,
   "metadata": {},
   "outputs": [
    {
     "name": "stdout",
     "output_type": "stream",
     "text": [
      "Emergency Fund Target 36,000.00\n",
      "Total Portfolio value 107,624.61\n",
      "Congratulations! You have enough money in the fund\n"
     ]
    }
   ],
   "source": [
    "# Evaluate the possibility of creating an emergency fund with 3 conditions:\n",
    "# YOUR CODE HERE\n",
    "print(f\"Emergency Fund Target {emergency_fund_value:,.2f}\")\n",
    "print(f\"Total Portfolio value {savings_df['amount'].sum():,.2f}\")\n",
    "\n",
    "if(savings_df['amount'].sum() > emergency_fund_value):\n",
    "    print(\"Congratulations! You have enough money in the fund\")\n",
    "elif(savings_df['amount'].sum() == emergency_fund_value):\n",
    "    print(\"Congratulations! You have reached an important milestone\")\n",
    "else:\n",
    "    print(f\"Great going. You need {emergency_fund_value-savings_df['amount'].sum():,.2f} more to have enough savings in your portfolio\")\n",
    "\n",
    "# YOUR CODE HERE\n",
    "# YOUR CODE HERE\n"
   ]
  },
  {
   "cell_type": "markdown",
   "metadata": {},
   "source": [
    "## Part 2: Create a Financial Planner for Retirement"
   ]
  },
  {
   "cell_type": "markdown",
   "metadata": {},
   "source": [
    "### Create the Monte Carlo Simulation\n",
    "\n",
    "In this section, you’ll use the MCForecastTools library to create a Monte Carlo simulation for the member’s savings portfolio. To do this, complete the following steps:\n",
    "\n",
    "1. Make an API call via the Alpaca SDK to get 3 years of historical closing prices for a traditional 60/40 portfolio split: 60% stocks (SPY) and 40% bonds (AGG).\n",
    "\n",
    "2. Run a Monte Carlo simulation of 500 samples and 30 years for the 60/40 portfolio, and then plot the results.The following image shows the overlay line plot resulting from a simulation with these characteristics. However, because a random number generator is used to run each live Monte Carlo simulation, your image will differ slightly from this exact image:\n",
    "\n",
    "![A screenshot depicts the resulting plot.](Images/5-4-monte-carlo-line-plot.png)\n",
    "\n",
    "3. Plot the probability distribution of the Monte Carlo simulation. Plot the probability distribution of the Monte Carlo simulation. The following image shows the histogram plot resulting from a simulation with these characteristics. However, because a random number generator is used to run each live Monte Carlo simulation, your image will differ slightly from this exact image:\n",
    "\n",
    "![A screenshot depicts the histogram plot.](Images/5-4-monte-carlo-histogram.png)\n",
    "\n",
    "4. Generate the summary statistics for the Monte Carlo simulation.\n",
    "\n"
   ]
  },
  {
   "cell_type": "markdown",
   "metadata": {},
   "source": [
    "#### Step 1: Make an API call via the Alpaca SDK to get 3 years of historical closing prices for a traditional 60/40 portfolio split: 60% stocks (SPY) and 40% bonds (AGG)."
   ]
  },
  {
   "cell_type": "code",
   "execution_count": 187,
   "metadata": {},
   "outputs": [],
   "source": [
    "# Set start and end dates of 3 years back from your current date\n",
    "# Alternatively, you can use an end date of 2020-08-07 and work 3 years back from that date \n",
    "# YOUR CODE HERE\n",
    "end_date = pd.Timestamp('2020-08-07',tz='America/New_York').isoformat()\n",
    "start_date = pd.Timestamp('2017-08-07',tz='America/New_York').isoformat()\n",
    "# start_date = pd.Timestamp(end_date,'America/New_York').isoformat()\n",
    "# YOUR CODE HERE\n"
   ]
  },
  {
   "cell_type": "code",
   "execution_count": 188,
   "metadata": {},
   "outputs": [
    {
     "data": {
      "text/plain": [
       "\"The type of api key: <class 'str'>\""
      ]
     },
     "metadata": {},
     "output_type": "display_data"
    },
    {
     "data": {
      "text/plain": [
       "\"The type of secret key: <class 'str'>\""
      ]
     },
     "metadata": {},
     "output_type": "display_data"
    },
    {
     "data": {
      "text/html": [
       "<div>\n",
       "<style scoped>\n",
       "    .dataframe tbody tr th:only-of-type {\n",
       "        vertical-align: middle;\n",
       "    }\n",
       "\n",
       "    .dataframe tbody tr th {\n",
       "        vertical-align: top;\n",
       "    }\n",
       "\n",
       "    .dataframe thead tr th {\n",
       "        text-align: left;\n",
       "    }\n",
       "</style>\n",
       "<table border=\"1\" class=\"dataframe\">\n",
       "  <thead>\n",
       "    <tr>\n",
       "      <th></th>\n",
       "      <th colspan=\"7\" halign=\"left\">SPY</th>\n",
       "      <th colspan=\"7\" halign=\"left\">AGG</th>\n",
       "    </tr>\n",
       "    <tr>\n",
       "      <th></th>\n",
       "      <th>open</th>\n",
       "      <th>high</th>\n",
       "      <th>low</th>\n",
       "      <th>close</th>\n",
       "      <th>volume</th>\n",
       "      <th>trade_count</th>\n",
       "      <th>vwap</th>\n",
       "      <th>open</th>\n",
       "      <th>high</th>\n",
       "      <th>low</th>\n",
       "      <th>close</th>\n",
       "      <th>volume</th>\n",
       "      <th>trade_count</th>\n",
       "      <th>vwap</th>\n",
       "    </tr>\n",
       "  </thead>\n",
       "  <tbody>\n",
       "    <tr>\n",
       "      <th>2017-08-07</th>\n",
       "      <td>247.49</td>\n",
       "      <td>247.87</td>\n",
       "      <td>247.37</td>\n",
       "      <td>247.8400</td>\n",
       "      <td>31995021</td>\n",
       "      <td>100111</td>\n",
       "      <td>247.668698</td>\n",
       "      <td>109.69</td>\n",
       "      <td>109.72</td>\n",
       "      <td>109.6066</td>\n",
       "      <td>109.685</td>\n",
       "      <td>2359826</td>\n",
       "      <td>7755</td>\n",
       "      <td>109.674876</td>\n",
       "    </tr>\n",
       "    <tr>\n",
       "      <th>2017-08-08</th>\n",
       "      <td>247.51</td>\n",
       "      <td>248.91</td>\n",
       "      <td>246.83</td>\n",
       "      <td>247.2700</td>\n",
       "      <td>61719353</td>\n",
       "      <td>192921</td>\n",
       "      <td>247.739709</td>\n",
       "      <td>109.67</td>\n",
       "      <td>109.69</td>\n",
       "      <td>109.5000</td>\n",
       "      <td>109.580</td>\n",
       "      <td>2570876</td>\n",
       "      <td>12663</td>\n",
       "      <td>109.577636</td>\n",
       "    </tr>\n",
       "    <tr>\n",
       "      <th>2017-08-09</th>\n",
       "      <td>246.47</td>\n",
       "      <td>247.31</td>\n",
       "      <td>246.06</td>\n",
       "      <td>247.2700</td>\n",
       "      <td>62632619</td>\n",
       "      <td>223650</td>\n",
       "      <td>246.791421</td>\n",
       "      <td>109.87</td>\n",
       "      <td>109.87</td>\n",
       "      <td>109.6600</td>\n",
       "      <td>109.670</td>\n",
       "      <td>2308932</td>\n",
       "      <td>11031</td>\n",
       "      <td>109.771749</td>\n",
       "    </tr>\n",
       "    <tr>\n",
       "      <th>2017-08-10</th>\n",
       "      <td>246.29</td>\n",
       "      <td>246.44</td>\n",
       "      <td>243.70</td>\n",
       "      <td>243.7599</td>\n",
       "      <td>120418270</td>\n",
       "      <td>424321</td>\n",
       "      <td>245.027847</td>\n",
       "      <td>109.70</td>\n",
       "      <td>109.85</td>\n",
       "      <td>109.6700</td>\n",
       "      <td>109.800</td>\n",
       "      <td>2004163</td>\n",
       "      <td>12437</td>\n",
       "      <td>109.776611</td>\n",
       "    </tr>\n",
       "    <tr>\n",
       "      <th>2017-08-11</th>\n",
       "      <td>244.02</td>\n",
       "      <td>244.80</td>\n",
       "      <td>243.75</td>\n",
       "      <td>244.1100</td>\n",
       "      <td>74869947</td>\n",
       "      <td>278786</td>\n",
       "      <td>244.222867</td>\n",
       "      <td>109.75</td>\n",
       "      <td>109.94</td>\n",
       "      <td>109.6800</td>\n",
       "      <td>109.870</td>\n",
       "      <td>1913253</td>\n",
       "      <td>10113</td>\n",
       "      <td>109.860974</td>\n",
       "    </tr>\n",
       "  </tbody>\n",
       "</table>\n",
       "</div>"
      ],
      "text/plain": [
       "               SPY                                                   \\\n",
       "              open    high     low     close     volume trade_count   \n",
       "2017-08-07  247.49  247.87  247.37  247.8400   31995021      100111   \n",
       "2017-08-08  247.51  248.91  246.83  247.2700   61719353      192921   \n",
       "2017-08-09  246.47  247.31  246.06  247.2700   62632619      223650   \n",
       "2017-08-10  246.29  246.44  243.70  243.7599  120418270      424321   \n",
       "2017-08-11  244.02  244.80  243.75  244.1100   74869947      278786   \n",
       "\n",
       "                           AGG                                      \\\n",
       "                  vwap    open    high       low    close   volume   \n",
       "2017-08-07  247.668698  109.69  109.72  109.6066  109.685  2359826   \n",
       "2017-08-08  247.739709  109.67  109.69  109.5000  109.580  2570876   \n",
       "2017-08-09  246.791421  109.87  109.87  109.6600  109.670  2308932   \n",
       "2017-08-10  245.027847  109.70  109.85  109.6700  109.800  2004163   \n",
       "2017-08-11  244.222867  109.75  109.94  109.6800  109.870  1913253   \n",
       "\n",
       "                                    \n",
       "           trade_count        vwap  \n",
       "2017-08-07        7755  109.674876  \n",
       "2017-08-08       12663  109.577636  \n",
       "2017-08-09       11031  109.771749  \n",
       "2017-08-10       12437  109.776611  \n",
       "2017-08-11       10113  109.860974  "
      ]
     },
     "metadata": {},
     "output_type": "display_data"
    },
    {
     "data": {
      "text/html": [
       "<div>\n",
       "<style scoped>\n",
       "    .dataframe tbody tr th:only-of-type {\n",
       "        vertical-align: middle;\n",
       "    }\n",
       "\n",
       "    .dataframe tbody tr th {\n",
       "        vertical-align: top;\n",
       "    }\n",
       "\n",
       "    .dataframe thead tr th {\n",
       "        text-align: left;\n",
       "    }\n",
       "</style>\n",
       "<table border=\"1\" class=\"dataframe\">\n",
       "  <thead>\n",
       "    <tr>\n",
       "      <th></th>\n",
       "      <th colspan=\"7\" halign=\"left\">SPY</th>\n",
       "      <th colspan=\"7\" halign=\"left\">AGG</th>\n",
       "    </tr>\n",
       "    <tr>\n",
       "      <th></th>\n",
       "      <th>open</th>\n",
       "      <th>high</th>\n",
       "      <th>low</th>\n",
       "      <th>close</th>\n",
       "      <th>volume</th>\n",
       "      <th>trade_count</th>\n",
       "      <th>vwap</th>\n",
       "      <th>open</th>\n",
       "      <th>high</th>\n",
       "      <th>low</th>\n",
       "      <th>close</th>\n",
       "      <th>volume</th>\n",
       "      <th>trade_count</th>\n",
       "      <th>vwap</th>\n",
       "    </tr>\n",
       "  </thead>\n",
       "  <tbody>\n",
       "    <tr>\n",
       "      <th>2020-08-03</th>\n",
       "      <td>328.3200</td>\n",
       "      <td>329.62</td>\n",
       "      <td>327.73</td>\n",
       "      <td>328.67</td>\n",
       "      <td>53078112</td>\n",
       "      <td>288003</td>\n",
       "      <td>328.658795</td>\n",
       "      <td>119.37</td>\n",
       "      <td>119.40</td>\n",
       "      <td>119.1903</td>\n",
       "      <td>119.40</td>\n",
       "      <td>13014535</td>\n",
       "      <td>36359</td>\n",
       "      <td>119.282420</td>\n",
       "    </tr>\n",
       "    <tr>\n",
       "      <th>2020-08-04</th>\n",
       "      <td>327.8600</td>\n",
       "      <td>330.06</td>\n",
       "      <td>327.86</td>\n",
       "      <td>330.00</td>\n",
       "      <td>41917896</td>\n",
       "      <td>250899</td>\n",
       "      <td>329.057592</td>\n",
       "      <td>119.42</td>\n",
       "      <td>119.63</td>\n",
       "      <td>119.4200</td>\n",
       "      <td>119.63</td>\n",
       "      <td>10935154</td>\n",
       "      <td>39113</td>\n",
       "      <td>119.541666</td>\n",
       "    </tr>\n",
       "    <tr>\n",
       "      <th>2020-08-05</th>\n",
       "      <td>331.4700</td>\n",
       "      <td>332.39</td>\n",
       "      <td>331.18</td>\n",
       "      <td>332.03</td>\n",
       "      <td>42870955</td>\n",
       "      <td>241416</td>\n",
       "      <td>331.791643</td>\n",
       "      <td>119.39</td>\n",
       "      <td>119.49</td>\n",
       "      <td>119.3100</td>\n",
       "      <td>119.40</td>\n",
       "      <td>17377874</td>\n",
       "      <td>42313</td>\n",
       "      <td>119.387245</td>\n",
       "    </tr>\n",
       "    <tr>\n",
       "      <th>2020-08-06</th>\n",
       "      <td>331.4799</td>\n",
       "      <td>334.46</td>\n",
       "      <td>331.13</td>\n",
       "      <td>334.32</td>\n",
       "      <td>43679448</td>\n",
       "      <td>290036</td>\n",
       "      <td>332.939600</td>\n",
       "      <td>119.62</td>\n",
       "      <td>119.73</td>\n",
       "      <td>119.5300</td>\n",
       "      <td>119.57</td>\n",
       "      <td>4608710</td>\n",
       "      <td>15938</td>\n",
       "      <td>119.604199</td>\n",
       "    </tr>\n",
       "    <tr>\n",
       "      <th>2020-08-07</th>\n",
       "      <td>333.2800</td>\n",
       "      <td>334.88</td>\n",
       "      <td>332.30</td>\n",
       "      <td>334.57</td>\n",
       "      <td>57282821</td>\n",
       "      <td>350100</td>\n",
       "      <td>333.800372</td>\n",
       "      <td>119.66</td>\n",
       "      <td>119.73</td>\n",
       "      <td>119.3950</td>\n",
       "      <td>119.43</td>\n",
       "      <td>5559066</td>\n",
       "      <td>15246</td>\n",
       "      <td>119.475306</td>\n",
       "    </tr>\n",
       "  </tbody>\n",
       "</table>\n",
       "</div>"
      ],
      "text/plain": [
       "                 SPY                                                \\\n",
       "                open    high     low   close    volume trade_count   \n",
       "2020-08-03  328.3200  329.62  327.73  328.67  53078112      288003   \n",
       "2020-08-04  327.8600  330.06  327.86  330.00  41917896      250899   \n",
       "2020-08-05  331.4700  332.39  331.18  332.03  42870955      241416   \n",
       "2020-08-06  331.4799  334.46  331.13  334.32  43679448      290036   \n",
       "2020-08-07  333.2800  334.88  332.30  334.57  57282821      350100   \n",
       "\n",
       "                           AGG                                      \\\n",
       "                  vwap    open    high       low   close    volume   \n",
       "2020-08-03  328.658795  119.37  119.40  119.1903  119.40  13014535   \n",
       "2020-08-04  329.057592  119.42  119.63  119.4200  119.63  10935154   \n",
       "2020-08-05  331.791643  119.39  119.49  119.3100  119.40  17377874   \n",
       "2020-08-06  332.939600  119.62  119.73  119.5300  119.57   4608710   \n",
       "2020-08-07  333.800372  119.66  119.73  119.3950  119.43   5559066   \n",
       "\n",
       "                                    \n",
       "           trade_count        vwap  \n",
       "2020-08-03       36359  119.282420  \n",
       "2020-08-04       39113  119.541666  \n",
       "2020-08-05       42313  119.387245  \n",
       "2020-08-06       15938  119.604199  \n",
       "2020-08-07       15246  119.475306  "
      ]
     },
     "metadata": {},
     "output_type": "display_data"
    }
   ],
   "source": [
    "# define keys that are needed to make the Alpaca API call\n",
    "alpaca_api_key = os.getenv('ALPACA_API_KEY')\n",
    "alpaca_secret_key = os.getenv('ALPACA_SECRET_KEY')\n",
    "\n",
    "# display the type of the key to ensure that the key has been read\n",
    "display(f\"The type of api key: {type(alpaca_api_key)}\")\n",
    "display(f\"The type of secret key: {type(alpaca_secret_key)}\")\n",
    "\n",
    "# intialize the REST api with the alpaca object. this will be used to download data later on\n",
    "alpaca = tradeapi.REST(alpaca_api_key, alpaca_secret_key, api_version='v2')\n",
    "\n",
    "# Use the Alpaca get_bars function to make the API call to get the 3 years worth of pricing data\n",
    "# The tickers and timeframe parameters should have been set in Part 1 of this activity \n",
    "# The start and end dates should be updated with the information set above\n",
    "# Remember to add the df property to the end of the call so the response is returned as a DataFrame\n",
    "# YOUR CODE HERE\n",
    "pricing_df = alpaca.get_bars(tickers, timeframe, start_date, end_date).df\n",
    "# display(pricing_df.head())\n",
    "# display(pricing_df.tail())\n",
    "\n",
    "# Reorganize the DataFrame\n",
    "# Separate ticker data\n",
    "# YOUR CODE HERE\n",
    "SPY = pricing_df[pricing_df['symbol']=='SPY'].drop('symbol',axis=1)\n",
    "AGG = pricing_df[pricing_df['symbol']=='AGG'].drop('symbol',axis=1)\n",
    "\n",
    "# Concatenate the ticker DataFrames\n",
    "# YOUR CODE HERE\n",
    "ticker_df = pd.concat([SPY, AGG], axis=1, keys= ['SPY','AGG'])\n",
    "ticker_df.index = ticker_df.index.date\n",
    "\n",
    "# Display both the first and last five rows of the DataFrame\n",
    "# YOUR CODE HERE\n",
    "display(ticker_df.head())\n",
    "# YOUR CODE HERE\n",
    "display(ticker_df.tail())\n"
   ]
  },
  {
   "cell_type": "markdown",
   "metadata": {},
   "source": [
    "#### Step 2: Run a Monte Carlo simulation of 500 samples and 30 years for the 60/40 portfolio, and then plot the results."
   ]
  },
  {
   "cell_type": "code",
   "execution_count": 189,
   "metadata": {},
   "outputs": [],
   "source": [
    "# Configure the Monte Carlo simulation to forecast 30 years cumulative returns\n",
    "# The weights should be split 40% to AGG and 60% to SPY.\n",
    "# Run 500 samples.\n",
    "# YOUR CODE HERE\n",
    "weights = [0.6,0.4]\n",
    "num_trading_days_in_year = 252\n",
    "num_simulations = 500\n",
    "\n",
    "# Review the simulation input data\n",
    "# YOUR CODE HERE\n",
    "mc_30ysim = MCSimulation(portfolio_data=ticker_df\n",
    "                        ,weights=weights\n",
    "                        ,num_simulation=num_simulations\n",
    "                        ,num_trading_days=num_trading_days_in_year*30)\n"
   ]
  },
  {
   "cell_type": "code",
   "execution_count": 190,
   "metadata": {},
   "outputs": [
    {
     "name": "stdout",
     "output_type": "stream",
     "text": [
      "Running Monte Carlo simulation number 0.\n",
      "Running Monte Carlo simulation number 10.\n",
      "Running Monte Carlo simulation number 20.\n",
      "Running Monte Carlo simulation number 30.\n",
      "Running Monte Carlo simulation number 40.\n",
      "Running Monte Carlo simulation number 50.\n",
      "Running Monte Carlo simulation number 60.\n",
      "Running Monte Carlo simulation number 70.\n",
      "Running Monte Carlo simulation number 80.\n",
      "Running Monte Carlo simulation number 90.\n",
      "Running Monte Carlo simulation number 100.\n"
     ]
    },
    {
     "name": "stderr",
     "output_type": "stream",
     "text": [
      "c:\\Sreedhar\\Rice\\FinTech\\Weekly Challenges\\Challenge5\\Starter_Code\\MCForecastTools.py:117: PerformanceWarning: DataFrame is highly fragmented.  This is usually the result of calling `frame.insert` many times, which has poor performance.  Consider joining all columns at once using pd.concat(axis=1) instead.  To get a de-fragmented frame, use `newframe = frame.copy()`\n",
      "  portfolio_cumulative_returns[n] = (1 + sim_df.fillna(0)).cumprod()\n"
     ]
    },
    {
     "name": "stdout",
     "output_type": "stream",
     "text": [
      "Running Monte Carlo simulation number 110.\n",
      "Running Monte Carlo simulation number 120.\n",
      "Running Monte Carlo simulation number 130.\n",
      "Running Monte Carlo simulation number 140.\n",
      "Running Monte Carlo simulation number 150.\n",
      "Running Monte Carlo simulation number 160.\n",
      "Running Monte Carlo simulation number 170.\n",
      "Running Monte Carlo simulation number 180.\n",
      "Running Monte Carlo simulation number 190.\n",
      "Running Monte Carlo simulation number 200.\n",
      "Running Monte Carlo simulation number 210.\n",
      "Running Monte Carlo simulation number 220.\n",
      "Running Monte Carlo simulation number 230.\n",
      "Running Monte Carlo simulation number 240.\n",
      "Running Monte Carlo simulation number 250.\n",
      "Running Monte Carlo simulation number 260.\n",
      "Running Monte Carlo simulation number 270.\n",
      "Running Monte Carlo simulation number 280.\n",
      "Running Monte Carlo simulation number 290.\n",
      "Running Monte Carlo simulation number 300.\n",
      "Running Monte Carlo simulation number 310.\n",
      "Running Monte Carlo simulation number 320.\n",
      "Running Monte Carlo simulation number 330.\n",
      "Running Monte Carlo simulation number 340.\n",
      "Running Monte Carlo simulation number 350.\n",
      "Running Monte Carlo simulation number 360.\n",
      "Running Monte Carlo simulation number 370.\n",
      "Running Monte Carlo simulation number 380.\n",
      "Running Monte Carlo simulation number 390.\n",
      "Running Monte Carlo simulation number 400.\n",
      "Running Monte Carlo simulation number 410.\n",
      "Running Monte Carlo simulation number 420.\n",
      "Running Monte Carlo simulation number 430.\n",
      "Running Monte Carlo simulation number 440.\n",
      "Running Monte Carlo simulation number 450.\n",
      "Running Monte Carlo simulation number 460.\n",
      "Running Monte Carlo simulation number 470.\n",
      "Running Monte Carlo simulation number 480.\n",
      "Running Monte Carlo simulation number 490.\n"
     ]
    },
    {
     "data": {
      "text/html": [
       "<div>\n",
       "<style scoped>\n",
       "    .dataframe tbody tr th:only-of-type {\n",
       "        vertical-align: middle;\n",
       "    }\n",
       "\n",
       "    .dataframe tbody tr th {\n",
       "        vertical-align: top;\n",
       "    }\n",
       "\n",
       "    .dataframe thead th {\n",
       "        text-align: right;\n",
       "    }\n",
       "</style>\n",
       "<table border=\"1\" class=\"dataframe\">\n",
       "  <thead>\n",
       "    <tr style=\"text-align: right;\">\n",
       "      <th></th>\n",
       "      <th>0</th>\n",
       "      <th>1</th>\n",
       "      <th>2</th>\n",
       "      <th>3</th>\n",
       "      <th>4</th>\n",
       "      <th>5</th>\n",
       "      <th>6</th>\n",
       "      <th>7</th>\n",
       "      <th>8</th>\n",
       "      <th>9</th>\n",
       "      <th>...</th>\n",
       "      <th>490</th>\n",
       "      <th>491</th>\n",
       "      <th>492</th>\n",
       "      <th>493</th>\n",
       "      <th>494</th>\n",
       "      <th>495</th>\n",
       "      <th>496</th>\n",
       "      <th>497</th>\n",
       "      <th>498</th>\n",
       "      <th>499</th>\n",
       "    </tr>\n",
       "  </thead>\n",
       "  <tbody>\n",
       "    <tr>\n",
       "      <th>0</th>\n",
       "      <td>1.000000</td>\n",
       "      <td>1.000000</td>\n",
       "      <td>1.000000</td>\n",
       "      <td>1.000000</td>\n",
       "      <td>1.000000</td>\n",
       "      <td>1.000000</td>\n",
       "      <td>1.000000</td>\n",
       "      <td>1.000000</td>\n",
       "      <td>1.000000</td>\n",
       "      <td>1.000000</td>\n",
       "      <td>...</td>\n",
       "      <td>1.000000</td>\n",
       "      <td>1.000000</td>\n",
       "      <td>1.000000</td>\n",
       "      <td>1.000000</td>\n",
       "      <td>1.000000</td>\n",
       "      <td>1.000000</td>\n",
       "      <td>1.000000</td>\n",
       "      <td>1.000000</td>\n",
       "      <td>1.000000</td>\n",
       "      <td>1.000000</td>\n",
       "    </tr>\n",
       "    <tr>\n",
       "      <th>1</th>\n",
       "      <td>1.000913</td>\n",
       "      <td>1.002601</td>\n",
       "      <td>0.996172</td>\n",
       "      <td>1.004306</td>\n",
       "      <td>1.015903</td>\n",
       "      <td>0.981220</td>\n",
       "      <td>0.990351</td>\n",
       "      <td>1.005563</td>\n",
       "      <td>1.001729</td>\n",
       "      <td>1.001562</td>\n",
       "      <td>...</td>\n",
       "      <td>0.992790</td>\n",
       "      <td>1.003361</td>\n",
       "      <td>1.008431</td>\n",
       "      <td>1.009449</td>\n",
       "      <td>0.993873</td>\n",
       "      <td>0.996748</td>\n",
       "      <td>0.986678</td>\n",
       "      <td>1.005068</td>\n",
       "      <td>1.000447</td>\n",
       "      <td>1.006341</td>\n",
       "    </tr>\n",
       "    <tr>\n",
       "      <th>2</th>\n",
       "      <td>1.009551</td>\n",
       "      <td>1.006985</td>\n",
       "      <td>0.998650</td>\n",
       "      <td>1.002742</td>\n",
       "      <td>1.019979</td>\n",
       "      <td>0.980376</td>\n",
       "      <td>1.001008</td>\n",
       "      <td>1.000582</td>\n",
       "      <td>1.020308</td>\n",
       "      <td>1.007823</td>\n",
       "      <td>...</td>\n",
       "      <td>1.002003</td>\n",
       "      <td>0.999289</td>\n",
       "      <td>1.011971</td>\n",
       "      <td>1.016028</td>\n",
       "      <td>0.995125</td>\n",
       "      <td>1.004346</td>\n",
       "      <td>0.989105</td>\n",
       "      <td>1.011503</td>\n",
       "      <td>0.988991</td>\n",
       "      <td>1.006483</td>\n",
       "    </tr>\n",
       "    <tr>\n",
       "      <th>3</th>\n",
       "      <td>1.009976</td>\n",
       "      <td>1.004972</td>\n",
       "      <td>0.976318</td>\n",
       "      <td>1.003359</td>\n",
       "      <td>1.019419</td>\n",
       "      <td>0.980284</td>\n",
       "      <td>0.997878</td>\n",
       "      <td>1.004494</td>\n",
       "      <td>1.029021</td>\n",
       "      <td>1.020878</td>\n",
       "      <td>...</td>\n",
       "      <td>0.989573</td>\n",
       "      <td>1.003599</td>\n",
       "      <td>1.001520</td>\n",
       "      <td>1.004819</td>\n",
       "      <td>0.975815</td>\n",
       "      <td>1.021341</td>\n",
       "      <td>0.992347</td>\n",
       "      <td>1.005746</td>\n",
       "      <td>0.989619</td>\n",
       "      <td>1.004278</td>\n",
       "    </tr>\n",
       "    <tr>\n",
       "      <th>4</th>\n",
       "      <td>1.012125</td>\n",
       "      <td>1.001978</td>\n",
       "      <td>0.976525</td>\n",
       "      <td>1.001702</td>\n",
       "      <td>1.021249</td>\n",
       "      <td>0.991814</td>\n",
       "      <td>1.006028</td>\n",
       "      <td>1.004919</td>\n",
       "      <td>1.031750</td>\n",
       "      <td>1.022003</td>\n",
       "      <td>...</td>\n",
       "      <td>0.977404</td>\n",
       "      <td>1.020242</td>\n",
       "      <td>1.010301</td>\n",
       "      <td>1.009442</td>\n",
       "      <td>0.982297</td>\n",
       "      <td>1.019516</td>\n",
       "      <td>1.001457</td>\n",
       "      <td>1.008737</td>\n",
       "      <td>0.993392</td>\n",
       "      <td>0.996179</td>\n",
       "    </tr>\n",
       "    <tr>\n",
       "      <th>...</th>\n",
       "      <td>...</td>\n",
       "      <td>...</td>\n",
       "      <td>...</td>\n",
       "      <td>...</td>\n",
       "      <td>...</td>\n",
       "      <td>...</td>\n",
       "      <td>...</td>\n",
       "      <td>...</td>\n",
       "      <td>...</td>\n",
       "      <td>...</td>\n",
       "      <td>...</td>\n",
       "      <td>...</td>\n",
       "      <td>...</td>\n",
       "      <td>...</td>\n",
       "      <td>...</td>\n",
       "      <td>...</td>\n",
       "      <td>...</td>\n",
       "      <td>...</td>\n",
       "      <td>...</td>\n",
       "      <td>...</td>\n",
       "      <td>...</td>\n",
       "    </tr>\n",
       "    <tr>\n",
       "      <th>7556</th>\n",
       "      <td>15.026827</td>\n",
       "      <td>6.959372</td>\n",
       "      <td>10.080583</td>\n",
       "      <td>62.683200</td>\n",
       "      <td>26.403956</td>\n",
       "      <td>4.504494</td>\n",
       "      <td>18.697049</td>\n",
       "      <td>27.608869</td>\n",
       "      <td>22.936849</td>\n",
       "      <td>7.584535</td>\n",
       "      <td>...</td>\n",
       "      <td>13.240295</td>\n",
       "      <td>2.308350</td>\n",
       "      <td>6.456884</td>\n",
       "      <td>7.239254</td>\n",
       "      <td>3.383394</td>\n",
       "      <td>17.724239</td>\n",
       "      <td>3.683991</td>\n",
       "      <td>8.056633</td>\n",
       "      <td>3.696524</td>\n",
       "      <td>7.770641</td>\n",
       "    </tr>\n",
       "    <tr>\n",
       "      <th>7557</th>\n",
       "      <td>15.018232</td>\n",
       "      <td>7.114210</td>\n",
       "      <td>10.227281</td>\n",
       "      <td>62.416812</td>\n",
       "      <td>26.418537</td>\n",
       "      <td>4.436169</td>\n",
       "      <td>18.922767</td>\n",
       "      <td>27.721500</td>\n",
       "      <td>22.945479</td>\n",
       "      <td>7.713814</td>\n",
       "      <td>...</td>\n",
       "      <td>13.075607</td>\n",
       "      <td>2.281878</td>\n",
       "      <td>6.475463</td>\n",
       "      <td>7.196039</td>\n",
       "      <td>3.390780</td>\n",
       "      <td>17.780788</td>\n",
       "      <td>3.754489</td>\n",
       "      <td>8.149494</td>\n",
       "      <td>3.699161</td>\n",
       "      <td>7.697606</td>\n",
       "    </tr>\n",
       "    <tr>\n",
       "      <th>7558</th>\n",
       "      <td>14.958937</td>\n",
       "      <td>7.138958</td>\n",
       "      <td>10.245057</td>\n",
       "      <td>63.299851</td>\n",
       "      <td>26.256387</td>\n",
       "      <td>4.428464</td>\n",
       "      <td>18.774196</td>\n",
       "      <td>27.962456</td>\n",
       "      <td>22.782534</td>\n",
       "      <td>7.795374</td>\n",
       "      <td>...</td>\n",
       "      <td>13.226307</td>\n",
       "      <td>2.258607</td>\n",
       "      <td>6.533730</td>\n",
       "      <td>7.125175</td>\n",
       "      <td>3.408273</td>\n",
       "      <td>17.837217</td>\n",
       "      <td>3.731818</td>\n",
       "      <td>8.074639</td>\n",
       "      <td>3.713878</td>\n",
       "      <td>7.811762</td>\n",
       "    </tr>\n",
       "    <tr>\n",
       "      <th>7559</th>\n",
       "      <td>15.013702</td>\n",
       "      <td>7.175993</td>\n",
       "      <td>10.231610</td>\n",
       "      <td>63.712451</td>\n",
       "      <td>26.528534</td>\n",
       "      <td>4.498744</td>\n",
       "      <td>18.867645</td>\n",
       "      <td>27.983533</td>\n",
       "      <td>22.911786</td>\n",
       "      <td>7.726091</td>\n",
       "      <td>...</td>\n",
       "      <td>13.298005</td>\n",
       "      <td>2.222171</td>\n",
       "      <td>6.572890</td>\n",
       "      <td>7.129137</td>\n",
       "      <td>3.412887</td>\n",
       "      <td>17.818762</td>\n",
       "      <td>3.746477</td>\n",
       "      <td>7.997227</td>\n",
       "      <td>3.705356</td>\n",
       "      <td>7.803913</td>\n",
       "    </tr>\n",
       "    <tr>\n",
       "      <th>7560</th>\n",
       "      <td>15.044927</td>\n",
       "      <td>7.126248</td>\n",
       "      <td>10.274854</td>\n",
       "      <td>63.974872</td>\n",
       "      <td>26.654456</td>\n",
       "      <td>4.470178</td>\n",
       "      <td>18.942322</td>\n",
       "      <td>28.071148</td>\n",
       "      <td>22.752881</td>\n",
       "      <td>7.824539</td>\n",
       "      <td>...</td>\n",
       "      <td>13.407605</td>\n",
       "      <td>2.249860</td>\n",
       "      <td>6.582306</td>\n",
       "      <td>7.137658</td>\n",
       "      <td>3.491970</td>\n",
       "      <td>17.786413</td>\n",
       "      <td>3.726950</td>\n",
       "      <td>8.021990</td>\n",
       "      <td>3.715832</td>\n",
       "      <td>7.853276</td>\n",
       "    </tr>\n",
       "  </tbody>\n",
       "</table>\n",
       "<p>7561 rows × 500 columns</p>\n",
       "</div>"
      ],
      "text/plain": [
       "            0         1          2          3          4         5    \\\n",
       "0      1.000000  1.000000   1.000000   1.000000   1.000000  1.000000   \n",
       "1      1.000913  1.002601   0.996172   1.004306   1.015903  0.981220   \n",
       "2      1.009551  1.006985   0.998650   1.002742   1.019979  0.980376   \n",
       "3      1.009976  1.004972   0.976318   1.003359   1.019419  0.980284   \n",
       "4      1.012125  1.001978   0.976525   1.001702   1.021249  0.991814   \n",
       "...         ...       ...        ...        ...        ...       ...   \n",
       "7556  15.026827  6.959372  10.080583  62.683200  26.403956  4.504494   \n",
       "7557  15.018232  7.114210  10.227281  62.416812  26.418537  4.436169   \n",
       "7558  14.958937  7.138958  10.245057  63.299851  26.256387  4.428464   \n",
       "7559  15.013702  7.175993  10.231610  63.712451  26.528534  4.498744   \n",
       "7560  15.044927  7.126248  10.274854  63.974872  26.654456  4.470178   \n",
       "\n",
       "            6          7          8         9    ...        490       491  \\\n",
       "0      1.000000   1.000000   1.000000  1.000000  ...   1.000000  1.000000   \n",
       "1      0.990351   1.005563   1.001729  1.001562  ...   0.992790  1.003361   \n",
       "2      1.001008   1.000582   1.020308  1.007823  ...   1.002003  0.999289   \n",
       "3      0.997878   1.004494   1.029021  1.020878  ...   0.989573  1.003599   \n",
       "4      1.006028   1.004919   1.031750  1.022003  ...   0.977404  1.020242   \n",
       "...         ...        ...        ...       ...  ...        ...       ...   \n",
       "7556  18.697049  27.608869  22.936849  7.584535  ...  13.240295  2.308350   \n",
       "7557  18.922767  27.721500  22.945479  7.713814  ...  13.075607  2.281878   \n",
       "7558  18.774196  27.962456  22.782534  7.795374  ...  13.226307  2.258607   \n",
       "7559  18.867645  27.983533  22.911786  7.726091  ...  13.298005  2.222171   \n",
       "7560  18.942322  28.071148  22.752881  7.824539  ...  13.407605  2.249860   \n",
       "\n",
       "           492       493       494        495       496       497       498  \\\n",
       "0     1.000000  1.000000  1.000000   1.000000  1.000000  1.000000  1.000000   \n",
       "1     1.008431  1.009449  0.993873   0.996748  0.986678  1.005068  1.000447   \n",
       "2     1.011971  1.016028  0.995125   1.004346  0.989105  1.011503  0.988991   \n",
       "3     1.001520  1.004819  0.975815   1.021341  0.992347  1.005746  0.989619   \n",
       "4     1.010301  1.009442  0.982297   1.019516  1.001457  1.008737  0.993392   \n",
       "...        ...       ...       ...        ...       ...       ...       ...   \n",
       "7556  6.456884  7.239254  3.383394  17.724239  3.683991  8.056633  3.696524   \n",
       "7557  6.475463  7.196039  3.390780  17.780788  3.754489  8.149494  3.699161   \n",
       "7558  6.533730  7.125175  3.408273  17.837217  3.731818  8.074639  3.713878   \n",
       "7559  6.572890  7.129137  3.412887  17.818762  3.746477  7.997227  3.705356   \n",
       "7560  6.582306  7.137658  3.491970  17.786413  3.726950  8.021990  3.715832   \n",
       "\n",
       "           499  \n",
       "0     1.000000  \n",
       "1     1.006341  \n",
       "2     1.006483  \n",
       "3     1.004278  \n",
       "4     0.996179  \n",
       "...        ...  \n",
       "7556  7.770641  \n",
       "7557  7.697606  \n",
       "7558  7.811762  \n",
       "7559  7.803913  \n",
       "7560  7.853276  \n",
       "\n",
       "[7561 rows x 500 columns]"
      ]
     },
     "execution_count": 190,
     "metadata": {},
     "output_type": "execute_result"
    }
   ],
   "source": [
    "# Run the Monte Carlo simulation to forecast 30 years cumulative returns\n",
    "# YOUR CODE HERE\n",
    "mc_30ysim.calc_cumulative_return()"
   ]
  },
  {
   "cell_type": "code",
   "execution_count": 191,
   "metadata": {},
   "outputs": [
    {
     "data": {
      "text/plain": [
       "<AxesSubplot:title={'center':'500 Simulations of Cumulative Portfolio Return Trajectories Over the Next 7560 Trading Days.'}>"
      ]
     },
     "execution_count": 191,
     "metadata": {},
     "output_type": "execute_result"
    },
    {
     "data": {
      "image/png": "[encoded data removed]",
      "text/plain": [
       "<Figure size 640x480 with 1 Axes>"
      ]
     },
     "metadata": {},
     "output_type": "display_data"
    }
   ],
   "source": [
    "# Visualize the 30-year Monte Carlo simulation by creating an\n",
    "# overlay line plot\n",
    "# YOUR CODE HERE\n",
    "mc_30ysim.plot_simulation()"
   ]
  },
  {
   "cell_type": "markdown",
   "metadata": {},
   "source": [
    "#### Step 3: Plot the probability distribution of the Monte Carlo simulation."
   ]
  },
  {
   "cell_type": "code",
   "execution_count": 192,
   "metadata": {},
   "outputs": [
    {
     "data": {
      "text/plain": [
       "<AxesSubplot:title={'center':'Distribution of Final Cumuluative Returns Across All 500 Simulations'}, ylabel='Frequency'>"
      ]
     },
     "execution_count": 192,
     "metadata": {},
     "output_type": "execute_result"
    },
    {
     "data": {
      "image/png": "[encoded data removed]",
      "text/plain": [
       "<Figure size 640x480 with 1 Axes>"
      ]
     },
     "metadata": {},
     "output_type": "display_data"
    }
   ],
   "source": [
    "# Visualize the probability distribution of the 30-year Monte Carlo simulation \n",
    "# by plotting a histogram\n",
    "# YOUR CODE HERE\n",
    "mc_30ysim.plot_distribution()"
   ]
  },
  {
   "cell_type": "markdown",
   "metadata": {},
   "source": [
    "#### Step 4: Generate the summary statistics for the Monte Carlo simulation."
   ]
  },
  {
   "cell_type": "code",
   "execution_count": 193,
   "metadata": {},
   "outputs": [
    {
     "data": {
      "text/plain": [
       "count           500.000000\n",
       "mean             12.948595\n",
       "std               9.614547\n",
       "min               1.343421\n",
       "25%               5.925288\n",
       "50%              10.299983\n",
       "75%              17.511467\n",
       "max              79.710092\n",
       "95% CI Lower      2.702152\n",
       "95% CI Upper     35.930098\n",
       "Name: 7560, dtype: float64"
      ]
     },
     "execution_count": 193,
     "metadata": {},
     "output_type": "execute_result"
    }
   ],
   "source": [
    "# Generate summary statistics from the 30-year Monte Carlo simulation results\n",
    "# Save the results as a variable\n",
    "# YOUR CODE HERE\n",
    "mc_30y_summary_statistics = mc_30ysim.summarize_cumulative_return()\n",
    "\n",
    "# Review the 30-year Monte Carlo summary statistics\n",
    "# YOUR CODE HERE\n",
    "mc_30y_summary_statistics"
   ]
  },
  {
   "cell_type": "markdown",
   "metadata": {},
   "source": [
    "### Analyze the Retirement Portfolio Forecasts\n",
    "\n",
    "Using the current value of only the stock and bond portion of the member's portfolio and the summary statistics that you generated from the Monte Carlo simulation, answer the following question in your Jupyter notebook:\n",
    "\n",
    "-  What are the lower and upper bounds for the expected value of the portfolio with a 95% confidence interval?\n"
   ]
  },
  {
   "cell_type": "code",
   "execution_count": 194,
   "metadata": {},
   "outputs": [
    {
     "data": {
      "text/plain": [
       "'Current balance of stock and bond portion of members portfolio: 64,960.90'"
      ]
     },
     "metadata": {},
     "output_type": "display_data"
    }
   ],
   "source": [
    "# Print the current balance of the stock and bond portion of the members portfolio\n",
    "# YOUR CODE HERE\n",
    "display(f\"Current balance of stock and bond portion of members portfolio: {total_stocks_bonds:,.2f}\")"
   ]
  },
  {
   "cell_type": "code",
   "execution_count": 195,
   "metadata": {},
   "outputs": [
    {
     "name": "stdout",
     "output_type": "stream",
     "text": [
      "There is a 95% chance that the current value of the portfolio 64,960.90 over the next 30 years will end within the range of $175,534.20 and $2,334,051.53.\n"
     ]
    }
   ],
   "source": [
    "# Use the lower and upper `95%` confidence intervals to calculate the range of the possible outcomes for the current stock/bond portfolio\n",
    "ci_lower_thirty_cumulative_return = mc_30y_summary_statistics[8] * total_stocks_bonds\n",
    "ci_upper_thirty_cumulative_return = mc_30y_summary_statistics[9] * total_stocks_bonds\n",
    "\n",
    "# Print the result of your calculations\n",
    "# YOUR CODE HERE\n",
    "print(f\"There is a 95% chance that the current value of the portfolio {total_stocks_bonds:,.2f}\"\n",
    "      f\" over the next 30 years will end within the range of\"\n",
    "      f\" ${ci_lower_thirty_cumulative_return:,.2f} and ${ci_upper_thirty_cumulative_return:,.2f}.\")"
   ]
  },
  {
   "cell_type": "markdown",
   "metadata": {},
   "source": [
    "### Forecast Cumulative Returns in 10 Years\n",
    "\n",
    "The CTO of the credit union is impressed with your work on these planning tools but wonders if 30 years is a long time to wait until retirement. So, your next task is to adjust the retirement portfolio and run a new Monte Carlo simulation to find out if the changes will allow members to retire earlier.\n",
    "\n",
    "For this new Monte Carlo simulation, do the following: \n",
    "\n",
    "- Forecast the cumulative returns for 10 years from now. Because of the shortened investment horizon (30 years to 10 years), the portfolio needs to invest more heavily in the riskier asset&mdash;that is, stock&mdash;to help accumulate wealth for retirement. \n",
    "\n",
    "- Adjust the weights of the retirement portfolio so that the composition for the Monte Carlo simulation consists of 20% bonds and 80% stocks. \n",
    "\n",
    "- Run the simulation over 500 samples, and use the same data that the API call to Alpaca generated.\n",
    "\n",
    "- Based on the new Monte Carlo simulation, answer the following questions in your Jupyter notebook:\n",
    "\n",
    "    - Using the current value of only the stock and bond portion of the member's portfolio and the summary statistics that you generated from the new Monte Carlo simulation, what are the lower and upper bounds for the expected value of the portfolio (with the new weights) with a 95% confidence interval?\n",
    "\n",
    "    - Will weighting the portfolio more heavily toward stocks allow the credit union members to retire after only 10 years?\n"
   ]
  },
  {
   "cell_type": "code",
   "execution_count": 196,
   "metadata": {},
   "outputs": [],
   "source": [
    "# Configure a Monte Carlo simulation to forecast 10 years cumulative returns\n",
    "# The weights should be split 20% to AGG and 80% to SPY.\n",
    "# Run 500 samples.\n",
    "# YOUR CODE HERE\n",
    "weights = [0.8,0.2]\n",
    "# Review the simulation input data\n",
    "# YOUR CODE HERE\n",
    "mc_10ysim = MCSimulation(portfolio_data=ticker_df, weights=weights, num_simulation=num_simulations, num_trading_days=num_trading_days_in_year*10)"
   ]
  },
  {
   "cell_type": "code",
   "execution_count": 197,
   "metadata": {},
   "outputs": [
    {
     "name": "stdout",
     "output_type": "stream",
     "text": [
      "Running Monte Carlo simulation number 0.\n",
      "Running Monte Carlo simulation number 10.\n",
      "Running Monte Carlo simulation number 20.\n",
      "Running Monte Carlo simulation number 30.\n",
      "Running Monte Carlo simulation number 40.\n",
      "Running Monte Carlo simulation number 50.\n",
      "Running Monte Carlo simulation number 60.\n",
      "Running Monte Carlo simulation number 70.\n",
      "Running Monte Carlo simulation number 80.\n",
      "Running Monte Carlo simulation number 90.\n",
      "Running Monte Carlo simulation number 100.\n"
     ]
    },
    {
     "name": "stderr",
     "output_type": "stream",
     "text": [
      "c:\\Sreedhar\\Rice\\FinTech\\Weekly Challenges\\Challenge5\\Starter_Code\\MCForecastTools.py:117: PerformanceWarning: DataFrame is highly fragmented.  This is usually the result of calling `frame.insert` many times, which has poor performance.  Consider joining all columns at once using pd.concat(axis=1) instead.  To get a de-fragmented frame, use `newframe = frame.copy()`\n",
      "  portfolio_cumulative_returns[n] = (1 + sim_df.fillna(0)).cumprod()\n"
     ]
    },
    {
     "name": "stdout",
     "output_type": "stream",
     "text": [
      "Running Monte Carlo simulation number 110.\n",
      "Running Monte Carlo simulation number 120.\n",
      "Running Monte Carlo simulation number 130.\n",
      "Running Monte Carlo simulation number 140.\n",
      "Running Monte Carlo simulation number 150.\n",
      "Running Monte Carlo simulation number 160.\n",
      "Running Monte Carlo simulation number 170.\n",
      "Running Monte Carlo simulation number 180.\n",
      "Running Monte Carlo simulation number 190.\n",
      "Running Monte Carlo simulation number 200.\n",
      "Running Monte Carlo simulation number 210.\n",
      "Running Monte Carlo simulation number 220.\n",
      "Running Monte Carlo simulation number 230.\n",
      "Running Monte Carlo simulation number 240.\n",
      "Running Monte Carlo simulation number 250.\n",
      "Running Monte Carlo simulation number 260.\n",
      "Running Monte Carlo simulation number 270.\n",
      "Running Monte Carlo simulation number 280.\n",
      "Running Monte Carlo simulation number 290.\n",
      "Running Monte Carlo simulation number 300.\n",
      "Running Monte Carlo simulation number 310.\n",
      "Running Monte Carlo simulation number 320.\n",
      "Running Monte Carlo simulation number 330.\n",
      "Running Monte Carlo simulation number 340.\n",
      "Running Monte Carlo simulation number 350.\n",
      "Running Monte Carlo simulation number 360.\n",
      "Running Monte Carlo simulation number 370.\n",
      "Running Monte Carlo simulation number 380.\n",
      "Running Monte Carlo simulation number 390.\n",
      "Running Monte Carlo simulation number 400.\n",
      "Running Monte Carlo simulation number 410.\n",
      "Running Monte Carlo simulation number 420.\n",
      "Running Monte Carlo simulation number 430.\n",
      "Running Monte Carlo simulation number 440.\n",
      "Running Monte Carlo simulation number 450.\n",
      "Running Monte Carlo simulation number 460.\n",
      "Running Monte Carlo simulation number 470.\n",
      "Running Monte Carlo simulation number 480.\n",
      "Running Monte Carlo simulation number 490.\n"
     ]
    },
    {
     "data": {
      "text/html": [
       "<div>\n",
       "<style scoped>\n",
       "    .dataframe tbody tr th:only-of-type {\n",
       "        vertical-align: middle;\n",
       "    }\n",
       "\n",
       "    .dataframe tbody tr th {\n",
       "        vertical-align: top;\n",
       "    }\n",
       "\n",
       "    .dataframe thead th {\n",
       "        text-align: right;\n",
       "    }\n",
       "</style>\n",
       "<table border=\"1\" class=\"dataframe\">\n",
       "  <thead>\n",
       "    <tr style=\"text-align: right;\">\n",
       "      <th></th>\n",
       "      <th>0</th>\n",
       "      <th>1</th>\n",
       "      <th>2</th>\n",
       "      <th>3</th>\n",
       "      <th>4</th>\n",
       "      <th>5</th>\n",
       "      <th>6</th>\n",
       "      <th>7</th>\n",
       "      <th>8</th>\n",
       "      <th>9</th>\n",
       "      <th>...</th>\n",
       "      <th>490</th>\n",
       "      <th>491</th>\n",
       "      <th>492</th>\n",
       "      <th>493</th>\n",
       "      <th>494</th>\n",
       "      <th>495</th>\n",
       "      <th>496</th>\n",
       "      <th>497</th>\n",
       "      <th>498</th>\n",
       "      <th>499</th>\n",
       "    </tr>\n",
       "  </thead>\n",
       "  <tbody>\n",
       "    <tr>\n",
       "      <th>0</th>\n",
       "      <td>1.000000</td>\n",
       "      <td>1.000000</td>\n",
       "      <td>1.000000</td>\n",
       "      <td>1.000000</td>\n",
       "      <td>1.000000</td>\n",
       "      <td>1.000000</td>\n",
       "      <td>1.000000</td>\n",
       "      <td>1.000000</td>\n",
       "      <td>1.000000</td>\n",
       "      <td>1.000000</td>\n",
       "      <td>...</td>\n",
       "      <td>1.000000</td>\n",
       "      <td>1.000000</td>\n",
       "      <td>1.000000</td>\n",
       "      <td>1.000000</td>\n",
       "      <td>1.000000</td>\n",
       "      <td>1.000000</td>\n",
       "      <td>1.000000</td>\n",
       "      <td>1.000000</td>\n",
       "      <td>1.000000</td>\n",
       "      <td>1.000000</td>\n",
       "    </tr>\n",
       "    <tr>\n",
       "      <th>1</th>\n",
       "      <td>0.985639</td>\n",
       "      <td>1.010876</td>\n",
       "      <td>0.994785</td>\n",
       "      <td>0.991568</td>\n",
       "      <td>1.011003</td>\n",
       "      <td>0.991178</td>\n",
       "      <td>1.000709</td>\n",
       "      <td>1.004061</td>\n",
       "      <td>1.007938</td>\n",
       "      <td>1.012319</td>\n",
       "      <td>...</td>\n",
       "      <td>0.983675</td>\n",
       "      <td>1.008635</td>\n",
       "      <td>1.002822</td>\n",
       "      <td>1.012827</td>\n",
       "      <td>0.997297</td>\n",
       "      <td>1.000270</td>\n",
       "      <td>1.002340</td>\n",
       "      <td>0.997347</td>\n",
       "      <td>1.002085</td>\n",
       "      <td>0.989120</td>\n",
       "    </tr>\n",
       "    <tr>\n",
       "      <th>2</th>\n",
       "      <td>0.993368</td>\n",
       "      <td>1.015030</td>\n",
       "      <td>0.988770</td>\n",
       "      <td>1.000220</td>\n",
       "      <td>0.982323</td>\n",
       "      <td>0.993779</td>\n",
       "      <td>0.983542</td>\n",
       "      <td>1.019500</td>\n",
       "      <td>0.997982</td>\n",
       "      <td>1.020815</td>\n",
       "      <td>...</td>\n",
       "      <td>0.949306</td>\n",
       "      <td>1.021898</td>\n",
       "      <td>1.005935</td>\n",
       "      <td>1.022265</td>\n",
       "      <td>0.976028</td>\n",
       "      <td>1.004209</td>\n",
       "      <td>0.997415</td>\n",
       "      <td>0.971782</td>\n",
       "      <td>1.001876</td>\n",
       "      <td>0.985156</td>\n",
       "    </tr>\n",
       "    <tr>\n",
       "      <th>3</th>\n",
       "      <td>0.999299</td>\n",
       "      <td>1.015504</td>\n",
       "      <td>0.998377</td>\n",
       "      <td>0.991544</td>\n",
       "      <td>0.985852</td>\n",
       "      <td>0.999026</td>\n",
       "      <td>0.992614</td>\n",
       "      <td>1.017065</td>\n",
       "      <td>0.988477</td>\n",
       "      <td>1.026894</td>\n",
       "      <td>...</td>\n",
       "      <td>0.950236</td>\n",
       "      <td>1.015745</td>\n",
       "      <td>1.006820</td>\n",
       "      <td>1.014908</td>\n",
       "      <td>0.983358</td>\n",
       "      <td>1.002904</td>\n",
       "      <td>0.972076</td>\n",
       "      <td>0.960594</td>\n",
       "      <td>0.996972</td>\n",
       "      <td>0.992440</td>\n",
       "    </tr>\n",
       "    <tr>\n",
       "      <th>4</th>\n",
       "      <td>0.997717</td>\n",
       "      <td>1.038663</td>\n",
       "      <td>0.996049</td>\n",
       "      <td>1.010035</td>\n",
       "      <td>0.989742</td>\n",
       "      <td>0.997306</td>\n",
       "      <td>0.977179</td>\n",
       "      <td>1.015172</td>\n",
       "      <td>0.997184</td>\n",
       "      <td>1.018759</td>\n",
       "      <td>...</td>\n",
       "      <td>0.959583</td>\n",
       "      <td>1.032832</td>\n",
       "      <td>1.019519</td>\n",
       "      <td>1.035213</td>\n",
       "      <td>0.984268</td>\n",
       "      <td>0.991800</td>\n",
       "      <td>0.973116</td>\n",
       "      <td>0.961695</td>\n",
       "      <td>0.992865</td>\n",
       "      <td>0.992012</td>\n",
       "    </tr>\n",
       "    <tr>\n",
       "      <th>...</th>\n",
       "      <td>...</td>\n",
       "      <td>...</td>\n",
       "      <td>...</td>\n",
       "      <td>...</td>\n",
       "      <td>...</td>\n",
       "      <td>...</td>\n",
       "      <td>...</td>\n",
       "      <td>...</td>\n",
       "      <td>...</td>\n",
       "      <td>...</td>\n",
       "      <td>...</td>\n",
       "      <td>...</td>\n",
       "      <td>...</td>\n",
       "      <td>...</td>\n",
       "      <td>...</td>\n",
       "      <td>...</td>\n",
       "      <td>...</td>\n",
       "      <td>...</td>\n",
       "      <td>...</td>\n",
       "      <td>...</td>\n",
       "      <td>...</td>\n",
       "    </tr>\n",
       "    <tr>\n",
       "      <th>2516</th>\n",
       "      <td>2.512150</td>\n",
       "      <td>1.011271</td>\n",
       "      <td>0.776915</td>\n",
       "      <td>3.416465</td>\n",
       "      <td>2.616716</td>\n",
       "      <td>3.360229</td>\n",
       "      <td>4.287070</td>\n",
       "      <td>1.550862</td>\n",
       "      <td>3.307511</td>\n",
       "      <td>5.675841</td>\n",
       "      <td>...</td>\n",
       "      <td>8.164427</td>\n",
       "      <td>2.057259</td>\n",
       "      <td>1.981060</td>\n",
       "      <td>1.914370</td>\n",
       "      <td>1.988575</td>\n",
       "      <td>4.072305</td>\n",
       "      <td>0.824733</td>\n",
       "      <td>3.475536</td>\n",
       "      <td>2.234570</td>\n",
       "      <td>6.468341</td>\n",
       "    </tr>\n",
       "    <tr>\n",
       "      <th>2517</th>\n",
       "      <td>2.552226</td>\n",
       "      <td>1.017415</td>\n",
       "      <td>0.773974</td>\n",
       "      <td>3.406419</td>\n",
       "      <td>2.591745</td>\n",
       "      <td>3.396648</td>\n",
       "      <td>4.233850</td>\n",
       "      <td>1.539712</td>\n",
       "      <td>3.311692</td>\n",
       "      <td>5.657168</td>\n",
       "      <td>...</td>\n",
       "      <td>8.172630</td>\n",
       "      <td>2.075703</td>\n",
       "      <td>1.971133</td>\n",
       "      <td>1.922523</td>\n",
       "      <td>1.954697</td>\n",
       "      <td>4.109123</td>\n",
       "      <td>0.832338</td>\n",
       "      <td>3.508469</td>\n",
       "      <td>2.234421</td>\n",
       "      <td>6.351036</td>\n",
       "    </tr>\n",
       "    <tr>\n",
       "      <th>2518</th>\n",
       "      <td>2.583122</td>\n",
       "      <td>1.009765</td>\n",
       "      <td>0.778911</td>\n",
       "      <td>3.413945</td>\n",
       "      <td>2.575894</td>\n",
       "      <td>3.503936</td>\n",
       "      <td>4.310917</td>\n",
       "      <td>1.531130</td>\n",
       "      <td>3.317855</td>\n",
       "      <td>5.615471</td>\n",
       "      <td>...</td>\n",
       "      <td>8.141499</td>\n",
       "      <td>2.057546</td>\n",
       "      <td>1.988498</td>\n",
       "      <td>1.944688</td>\n",
       "      <td>1.978408</td>\n",
       "      <td>4.112292</td>\n",
       "      <td>0.836384</td>\n",
       "      <td>3.459838</td>\n",
       "      <td>2.266584</td>\n",
       "      <td>6.405260</td>\n",
       "    </tr>\n",
       "    <tr>\n",
       "      <th>2519</th>\n",
       "      <td>2.530227</td>\n",
       "      <td>1.010695</td>\n",
       "      <td>0.774796</td>\n",
       "      <td>3.492564</td>\n",
       "      <td>2.602794</td>\n",
       "      <td>3.513708</td>\n",
       "      <td>4.396055</td>\n",
       "      <td>1.533583</td>\n",
       "      <td>3.265106</td>\n",
       "      <td>5.740985</td>\n",
       "      <td>...</td>\n",
       "      <td>8.135116</td>\n",
       "      <td>2.004686</td>\n",
       "      <td>2.003359</td>\n",
       "      <td>1.944315</td>\n",
       "      <td>1.982868</td>\n",
       "      <td>4.093272</td>\n",
       "      <td>0.841298</td>\n",
       "      <td>3.451651</td>\n",
       "      <td>2.333925</td>\n",
       "      <td>6.350519</td>\n",
       "    </tr>\n",
       "    <tr>\n",
       "      <th>2520</th>\n",
       "      <td>2.501338</td>\n",
       "      <td>1.021990</td>\n",
       "      <td>0.771852</td>\n",
       "      <td>3.514674</td>\n",
       "      <td>2.622101</td>\n",
       "      <td>3.505861</td>\n",
       "      <td>4.415751</td>\n",
       "      <td>1.529512</td>\n",
       "      <td>3.237867</td>\n",
       "      <td>5.765700</td>\n",
       "      <td>...</td>\n",
       "      <td>8.097445</td>\n",
       "      <td>2.007072</td>\n",
       "      <td>1.993250</td>\n",
       "      <td>1.984390</td>\n",
       "      <td>2.008852</td>\n",
       "      <td>4.088446</td>\n",
       "      <td>0.838537</td>\n",
       "      <td>3.466351</td>\n",
       "      <td>2.317667</td>\n",
       "      <td>6.429641</td>\n",
       "    </tr>\n",
       "  </tbody>\n",
       "</table>\n",
       "<p>2521 rows × 500 columns</p>\n",
       "</div>"
      ],
      "text/plain": [
       "           0         1         2         3         4         5         6    \\\n",
       "0     1.000000  1.000000  1.000000  1.000000  1.000000  1.000000  1.000000   \n",
       "1     0.985639  1.010876  0.994785  0.991568  1.011003  0.991178  1.000709   \n",
       "2     0.993368  1.015030  0.988770  1.000220  0.982323  0.993779  0.983542   \n",
       "3     0.999299  1.015504  0.998377  0.991544  0.985852  0.999026  0.992614   \n",
       "4     0.997717  1.038663  0.996049  1.010035  0.989742  0.997306  0.977179   \n",
       "...        ...       ...       ...       ...       ...       ...       ...   \n",
       "2516  2.512150  1.011271  0.776915  3.416465  2.616716  3.360229  4.287070   \n",
       "2517  2.552226  1.017415  0.773974  3.406419  2.591745  3.396648  4.233850   \n",
       "2518  2.583122  1.009765  0.778911  3.413945  2.575894  3.503936  4.310917   \n",
       "2519  2.530227  1.010695  0.774796  3.492564  2.602794  3.513708  4.396055   \n",
       "2520  2.501338  1.021990  0.771852  3.514674  2.622101  3.505861  4.415751   \n",
       "\n",
       "           7         8         9    ...       490       491       492  \\\n",
       "0     1.000000  1.000000  1.000000  ...  1.000000  1.000000  1.000000   \n",
       "1     1.004061  1.007938  1.012319  ...  0.983675  1.008635  1.002822   \n",
       "2     1.019500  0.997982  1.020815  ...  0.949306  1.021898  1.005935   \n",
       "3     1.017065  0.988477  1.026894  ...  0.950236  1.015745  1.006820   \n",
       "4     1.015172  0.997184  1.018759  ...  0.959583  1.032832  1.019519   \n",
       "...        ...       ...       ...  ...       ...       ...       ...   \n",
       "2516  1.550862  3.307511  5.675841  ...  8.164427  2.057259  1.981060   \n",
       "2517  1.539712  3.311692  5.657168  ...  8.172630  2.075703  1.971133   \n",
       "2518  1.531130  3.317855  5.615471  ...  8.141499  2.057546  1.988498   \n",
       "2519  1.533583  3.265106  5.740985  ...  8.135116  2.004686  2.003359   \n",
       "2520  1.529512  3.237867  5.765700  ...  8.097445  2.007072  1.993250   \n",
       "\n",
       "           493       494       495       496       497       498       499  \n",
       "0     1.000000  1.000000  1.000000  1.000000  1.000000  1.000000  1.000000  \n",
       "1     1.012827  0.997297  1.000270  1.002340  0.997347  1.002085  0.989120  \n",
       "2     1.022265  0.976028  1.004209  0.997415  0.971782  1.001876  0.985156  \n",
       "3     1.014908  0.983358  1.002904  0.972076  0.960594  0.996972  0.992440  \n",
       "4     1.035213  0.984268  0.991800  0.973116  0.961695  0.992865  0.992012  \n",
       "...        ...       ...       ...       ...       ...       ...       ...  \n",
       "2516  1.914370  1.988575  4.072305  0.824733  3.475536  2.234570  6.468341  \n",
       "2517  1.922523  1.954697  4.109123  0.832338  3.508469  2.234421  6.351036  \n",
       "2518  1.944688  1.978408  4.112292  0.836384  3.459838  2.266584  6.405260  \n",
       "2519  1.944315  1.982868  4.093272  0.841298  3.451651  2.333925  6.350519  \n",
       "2520  1.984390  2.008852  4.088446  0.838537  3.466351  2.317667  6.429641  \n",
       "\n",
       "[2521 rows x 500 columns]"
      ]
     },
     "execution_count": 197,
     "metadata": {},
     "output_type": "execute_result"
    }
   ],
   "source": [
    "# Run the Monte Carlo simulation to forecast 10 years cumulative returns\n",
    "# YOUR CODE HERE\n",
    "mc_10ysim.calc_cumulative_return()"
   ]
  },
  {
   "cell_type": "code",
   "execution_count": 198,
   "metadata": {},
   "outputs": [
    {
     "data": {
      "text/plain": [
       "<AxesSubplot:title={'center':'500 Simulations of Cumulative Portfolio Return Trajectories Over the Next 2520 Trading Days.'}>"
      ]
     },
     "execution_count": 198,
     "metadata": {},
     "output_type": "execute_result"
    },
    {
     "data": {
      "image/png": "[encoded data removed]",
      "text/plain": [
       "<Figure size 640x480 with 1 Axes>"
      ]
     },
     "metadata": {},
     "output_type": "display_data"
    }
   ],
   "source": [
    "# Visualize the 10-year Monte Carlo simulation by creating an\n",
    "# overlay line plot\n",
    "# YOUR CODE HERE\n",
    "mc_10ysim.plot_simulation()"
   ]
  },
  {
   "cell_type": "code",
   "execution_count": 199,
   "metadata": {},
   "outputs": [
    {
     "data": {
      "text/plain": [
       "<AxesSubplot:title={'center':'Distribution of Final Cumuluative Returns Across All 500 Simulations'}, ylabel='Frequency'>"
      ]
     },
     "execution_count": 199,
     "metadata": {},
     "output_type": "execute_result"
    },
    {
     "data": {
      "image/png": "[encoded data removed]",
      "text/plain": [
       "<Figure size 640x480 with 1 Axes>"
      ]
     },
     "metadata": {},
     "output_type": "display_data"
    }
   ],
   "source": [
    "# Visualize the probability distribution of the 10-year Monte Carlo simulation \n",
    "# by plotting a histogram\n",
    "# YOUR CODE HERE\n",
    "mc_10ysim.plot_distribution()"
   ]
  },
  {
   "cell_type": "code",
   "execution_count": 200,
   "metadata": {},
   "outputs": [
    {
     "data": {
      "text/plain": [
       "count           500.000000\n",
       "mean              2.849666\n",
       "std               1.624552\n",
       "min               0.426596\n",
       "25%               1.745733\n",
       "50%               2.463055\n",
       "75%               3.514139\n",
       "max              12.012329\n",
       "95% CI Lower      0.883145\n",
       "95% CI Upper      7.267980\n",
       "Name: 2520, dtype: float64"
      ]
     },
     "execution_count": 200,
     "metadata": {},
     "output_type": "execute_result"
    }
   ],
   "source": [
    "# Generate summary statistics from the 10-year Monte Carlo simulation results\n",
    "# Save the results as a variable\n",
    "# YOUR CODE HERE\n",
    "mc_10y_summary_statistics = mc_10ysim.summarize_cumulative_return()\n",
    "\n",
    "# Review the 10-year Monte Carlo summary statistics\n",
    "# YOUR CODE HERE\n",
    "mc_10y_summary_statistics"
   ]
  },
  {
   "cell_type": "markdown",
   "metadata": {},
   "source": [
    "### Answer the following questions:"
   ]
  },
  {
   "cell_type": "markdown",
   "metadata": {},
   "source": [
    "#### Question: Using the current value of only the stock and bond portion of the member's portfolio and the summary statistics that you generated from the new Monte Carlo simulation, what are the lower and upper bounds for the expected value of the portfolio (with the new weights) with a 95% confidence interval?"
   ]
  },
  {
   "cell_type": "code",
   "execution_count": 201,
   "metadata": {},
   "outputs": [
    {
     "data": {
      "text/plain": [
       "'Current balance of stock and bond portion of members portfolio: 64,960.90'"
      ]
     },
     "metadata": {},
     "output_type": "display_data"
    }
   ],
   "source": [
    "# Print the current balance of the stock and bond portion of the members portfolio\n",
    "# YOUR CODE HERE\n",
    "display(f\"Current balance of stock and bond portion of members portfolio: {total_stocks_bonds:,.2f}\")"
   ]
  },
  {
   "cell_type": "code",
   "execution_count": 202,
   "metadata": {},
   "outputs": [
    {
     "name": "stdout",
     "output_type": "stream",
     "text": [
      "There is a 95% chance that the current value of the portfolio 64,960.90 over the next 10 years will end within the range of $57,369.92 and $472,134.53.\n"
     ]
    }
   ],
   "source": [
    "# Use the lower and upper `95%` confidence intervals to calculate the range of the possible outcomes for the current stock/bond portfolio\n",
    "ci_lower_ten_cumulative_return = mc_10y_summary_statistics[8] * total_stocks_bonds\n",
    "ci_upper_ten_cumulative_return = mc_10y_summary_statistics[9] * total_stocks_bonds\n",
    "\n",
    "# Print the result of your calculations\n",
    "# YOUR CODE HERE\n",
    "print(f\"There is a 95% chance that the current value of the portfolio {total_stocks_bonds:,.2f}\"\n",
    "      f\" over the next 10 years will end within the range of\"\n",
    "      f\" ${ci_lower_ten_cumulative_return:,.2f} and ${ci_upper_ten_cumulative_return:,.2f}.\")"
   ]
  },
  {
   "cell_type": "markdown",
   "metadata": {},
   "source": [
    "#### Question: Will weighting the portfolio more heavily to stocks allow the credit union members to retire after only 10 years?"
   ]
  },
  {
   "attachments": {},
   "cell_type": "markdown",
   "metadata": {},
   "source": [
    "**Answer** It is difficult to say if the member could retire after 10 years with an aggressive stock weight as it is unknown at this time on what is the timeframe that the member is looking at to use the savings. \n",
    "In the worst case scenrio, the member will have $57,358 from the stocks and bonds. It is unknown if the member will maintain or increase his/her position in Crypto. Given that in the worst case, the money from stocks and bonds will only cover for 5 months (considering emergency monthly funds is at $12,000), the recommendation will be to continue with portion of the investment if the member decides to retire after 10 years\n"
   ]
  },
  {
   "cell_type": "code",
   "execution_count": null,
   "metadata": {},
   "outputs": [],
   "source": []
  }
 ],
 "metadata": {
  "kernelspec": {
   "display_name": "Python 3",
   "language": "python",
   "name": "python3"
  },
  "language_info": {
   "codemirror_mode": {
    "name": "ipython",
    "version": 3
   },
   "file_extension": ".py",
   "mimetype": "text/x-python",
   "name": "python",
   "nbconvert_exporter": "python",
   "pygments_lexer": "ipython3",
   "version": "3.7.13"
  }
 },
 "nbformat": 4,
 "nbformat_minor": 4
}
